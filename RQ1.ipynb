{
 "cells": [
  {
   "cell_type": "code",
   "execution_count": 2,
   "metadata": {},
   "outputs": [],
   "source": [
    "import pandas as pd\n",
    "from matplotlib.pyplot import figure\n",
    "import matplotlib.pyplot as plt\n",
    "from random import randint\n",
    "from collections import Counter \n",
    "import collections\n",
    "import statistics\n",
    "import time\n",
    "from itertools import chain \n",
    "import random\n",
    "import operator\n",
    "import copy"
   ]
  },
  {
   "cell_type": "code",
   "execution_count": 3,
   "metadata": {},
   "outputs": [],
   "source": [
    "import networkx as nx"
   ]
  },
  {
   "cell_type": "code",
   "execution_count": 4,
   "metadata": {},
   "outputs": [],
   "source": [
    "random.seed(42) "
   ]
  },
  {
   "cell_type": "markdown",
   "metadata": {},
   "source": [
    "### Importing and exploring data "
   ]
  },
  {
   "cell_type": "code",
   "execution_count": 5,
   "metadata": {},
   "outputs": [
    {
     "data": {
      "text/html": [
       "<div>\n",
       "<style scoped>\n",
       "    .dataframe tbody tr th:only-of-type {\n",
       "        vertical-align: middle;\n",
       "    }\n",
       "\n",
       "    .dataframe tbody tr th {\n",
       "        vertical-align: top;\n",
       "    }\n",
       "\n",
       "    .dataframe thead th {\n",
       "        text-align: right;\n",
       "    }\n",
       "</style>\n",
       "<table border=\"1\" class=\"dataframe\">\n",
       "  <thead>\n",
       "    <tr style=\"text-align: right;\">\n",
       "      <th></th>\n",
       "      <th>Unnamed: 0</th>\n",
       "      <th>0</th>\n",
       "      <th>1</th>\n",
       "    </tr>\n",
       "  </thead>\n",
       "  <tbody>\n",
       "    <tr>\n",
       "      <th>0</th>\n",
       "      <td>796</td>\n",
       "      <td>95</td>\n",
       "      <td>1185516</td>\n",
       "    </tr>\n",
       "    <tr>\n",
       "      <th>1</th>\n",
       "      <td>909</td>\n",
       "      <td>108</td>\n",
       "      <td>1059989</td>\n",
       "    </tr>\n",
       "    <tr>\n",
       "      <th>2</th>\n",
       "      <td>910</td>\n",
       "      <td>108</td>\n",
       "      <td>1062426</td>\n",
       "    </tr>\n",
       "    <tr>\n",
       "      <th>3</th>\n",
       "      <td>911</td>\n",
       "      <td>108</td>\n",
       "      <td>1161925</td>\n",
       "    </tr>\n",
       "    <tr>\n",
       "      <th>4</th>\n",
       "      <td>1141</td>\n",
       "      <td>134</td>\n",
       "      <td>541222</td>\n",
       "    </tr>\n",
       "  </tbody>\n",
       "</table>\n",
       "</div>"
      ],
      "text/plain": [
       "   Unnamed: 0    0        1\n",
       "0         796   95  1185516\n",
       "1         909  108  1059989\n",
       "2         910  108  1062426\n",
       "3         911  108  1161925\n",
       "4        1141  134   541222"
      ]
     },
     "execution_count": 5,
     "metadata": {},
     "output_type": "execute_result"
    }
   ],
   "source": [
    "dataset = pd.read_csv('wikigraph_reduced.csv', sep='\\t', \n",
    "                      delimiter=None, header='infer',\n",
    "                      names=None, index_col=None, \n",
    "                      usecols=None, \n",
    "                      encoding = \"ISO-8859-1\")\n",
    "dataset.head()"
   ]
  },
  {
   "cell_type": "code",
   "execution_count": 6,
   "metadata": {},
   "outputs": [],
   "source": [
    "dataset.columns=['Index','Source','Target']"
   ]
  },
  {
   "cell_type": "code",
   "execution_count": 7,
   "metadata": {},
   "outputs": [
    {
     "name": "stdout",
     "output_type": "stream",
     "text": [
      "483094\n",
      "483094\n"
     ]
    }
   ],
   "source": [
    "# check if index columns has unique values\n",
    "print(len(dataset.Index))\n",
    "print(len(set(dataset.Index)))"
   ]
  },
  {
   "cell_type": "code",
   "execution_count": 8,
   "metadata": {
    "scrolled": true
   },
   "outputs": [
    {
     "data": {
      "text/html": [
       "<div>\n",
       "<style scoped>\n",
       "    .dataframe tbody tr th:only-of-type {\n",
       "        vertical-align: middle;\n",
       "    }\n",
       "\n",
       "    .dataframe tbody tr th {\n",
       "        vertical-align: top;\n",
       "    }\n",
       "\n",
       "    .dataframe thead th {\n",
       "        text-align: right;\n",
       "    }\n",
       "</style>\n",
       "<table border=\"1\" class=\"dataframe\">\n",
       "  <thead>\n",
       "    <tr style=\"text-align: right;\">\n",
       "      <th></th>\n",
       "      <th>Source</th>\n",
       "      <th>Target</th>\n",
       "    </tr>\n",
       "    <tr>\n",
       "      <th>Index</th>\n",
       "      <th></th>\n",
       "      <th></th>\n",
       "    </tr>\n",
       "  </thead>\n",
       "  <tbody>\n",
       "    <tr>\n",
       "      <th>796</th>\n",
       "      <td>95</td>\n",
       "      <td>1185516</td>\n",
       "    </tr>\n",
       "    <tr>\n",
       "      <th>909</th>\n",
       "      <td>108</td>\n",
       "      <td>1059989</td>\n",
       "    </tr>\n",
       "    <tr>\n",
       "      <th>910</th>\n",
       "      <td>108</td>\n",
       "      <td>1062426</td>\n",
       "    </tr>\n",
       "    <tr>\n",
       "      <th>911</th>\n",
       "      <td>108</td>\n",
       "      <td>1161925</td>\n",
       "    </tr>\n",
       "    <tr>\n",
       "      <th>1141</th>\n",
       "      <td>134</td>\n",
       "      <td>541222</td>\n",
       "    </tr>\n",
       "  </tbody>\n",
       "</table>\n",
       "</div>"
      ],
      "text/plain": [
       "       Source   Target\n",
       "Index                 \n",
       "796        95  1185516\n",
       "909       108  1059989\n",
       "910       108  1062426\n",
       "911       108  1161925\n",
       "1141      134   541222"
      ]
     },
     "execution_count": 8,
     "metadata": {},
     "output_type": "execute_result"
    }
   ],
   "source": [
    "dataset.set_index('Index' , inplace = True)\n",
    "dataset.head()"
   ]
  },
  {
   "cell_type": "markdown",
   "metadata": {},
   "source": [
    "#### Associate single category to each node"
   ]
  },
  {
   "cell_type": "markdown",
   "metadata": {},
   "source": [
    "- categories_all = dictionary of nodes (K) with all associated categories (Values)\n",
    "- nodes_category = dictionary of nodes (K) with just one category (Values)\n",
    "- category_nodes = dictionary of categories (K) with all associated nodes (Values)"
   ]
  },
  {
   "cell_type": "code",
   "execution_count": 9,
   "metadata": {},
   "outputs": [],
   "source": [
    "# all nodes in and out\n",
    "unique_nodes = set(set(dataset.Source).union(set(dataset.Target)))\n",
    "n_nodes = len(unique_nodes)\n",
    "n_edges = len(dataset)"
   ]
  },
  {
   "cell_type": "code",
   "execution_count": 20,
   "metadata": {},
   "outputs": [],
   "source": [
    "category_file = 'wiki-topcats-categories.txt'"
   ]
  },
  {
   "cell_type": "markdown",
   "metadata": {},
   "source": [
    "Non filtered categories"
   ]
  },
  {
   "cell_type": "code",
   "execution_count": 21,
   "metadata": {},
   "outputs": [],
   "source": [
    "categories_all = {v: [] for v in unique_nodes}\n",
    "no_category = []\n",
    "\n",
    "with open(category_file) as file:\n",
    "    for i in range(17364):\n",
    "        line = file.readline()\n",
    "        category = line.split(';')[0].split(':')[-1]\n",
    "        nodes = line.split(';')[1].split(' ')[1:-2]\n",
    "        \n",
    "        for node in nodes:\n",
    "            try:\n",
    "                categories_all[int(node)].append(category)\n",
    "            except:\n",
    "                no_category.append(int(node))"
   ]
  },
  {
   "cell_type": "markdown",
   "metadata": {},
   "source": [
    "Filtering categories\n",
    "    1. Take the list of categories by a node\n",
    "    2. Choose one random category\n",
    "    3. If node have no category --> None"
   ]
  },
  {
   "cell_type": "code",
   "execution_count": 22,
   "metadata": {},
   "outputs": [],
   "source": [
    "nodes_category = {}\n",
    "for n in categories_all.keys():\n",
    "    try:\n",
    "        rand_category = random.choice(categories_all[n])\n",
    "        nodes_category[n] = rand_category\n",
    "    except:\n",
    "        nodes_category[n] = None"
   ]
  },
  {
   "cell_type": "code",
   "execution_count": 23,
   "metadata": {},
   "outputs": [],
   "source": [
    "category_nodes = {category:[] for category in set(nodes_category.values())}\n",
    "for node in nodes_category.keys():\n",
    "    try:\n",
    "        category_nodes[nodes_category[node]].append(node)\n",
    "    except:\n",
    "        continue"
   ]
  },
  {
   "cell_type": "markdown",
   "metadata": {},
   "source": [
    "#### Create graph\n",
    "- in_link = dictionary with all inlinks\n",
    "- out_link = dictionary with all outlinks"
   ]
  },
  {
   "cell_type": "code",
   "execution_count": 24,
   "metadata": {},
   "outputs": [],
   "source": [
    "in_links = {v: [] for v in set(dataset.Source)}\n",
    "out_links = {v: [] for v in set(dataset.Target)}\n",
    "\n",
    "for row in dataset.iterrows():\n",
    "    source = row[1][0]\n",
    "    target = row[1][1]\n",
    "    in_links[source].append(target)\n",
    "    out_links[target].append(source)"
   ]
  },
  {
   "cell_type": "code",
   "execution_count": 25,
   "metadata": {},
   "outputs": [],
   "source": [
    "n_art_outlink = len(out_links)\n",
    "n_art_inlink = len(in_links)"
   ]
  },
  {
   "cell_type": "markdown",
   "metadata": {},
   "source": [
    "#### Check if directed"
   ]
  },
  {
   "cell_type": "code",
   "execution_count": 26,
   "metadata": {},
   "outputs": [
    {
     "name": "stdout",
     "output_type": "stream",
     "text": [
      "Graph is directed\n"
     ]
    }
   ],
   "source": [
    "directed = False\n",
    "for node in in_links:\n",
    "    if len(set(in_links[node]).intersection(set(out_links[node]))) != 0:\n",
    "        directed = True\n",
    "        break\n",
    "if directed:\n",
    "    print('Graph is directed')\n",
    "else:\n",
    "    print('Graph is undirected')"
   ]
  },
  {
   "cell_type": "code",
   "execution_count": 27,
   "metadata": {},
   "outputs": [],
   "source": [
    "# undirected version of the graph\n",
    "links = in_links.copy()\n",
    "links.update(out_links)"
   ]
  },
  {
   "cell_type": "markdown",
   "metadata": {},
   "source": [
    "#### Density\n",
    "- Having E the number of edges and V the number of the vertices, the density D, for directed graphs, is:\n",
    "$$D = \\frac{|E|}{|V|(|V|-1)}$$"
   ]
  },
  {
   "cell_type": "code",
   "execution_count": 28,
   "metadata": {},
   "outputs": [
    {
     "name": "stdout",
     "output_type": "stream",
     "text": [
      "Graph density is: 4.9951571365597335e-05\n",
      "Graph hyperliks avarage is: 4.912337431235573\n"
     ]
    }
   ],
   "source": [
    "density = (n_edges/(n_nodes*(n_nodes-1)))\n",
    "avarage = n_edges/n_nodes\n",
    "\n",
    "print('Graph density is:',density)\n",
    "print('Graph hyperliks avarage is:',avarage)"
   ]
  },
  {
   "cell_type": "markdown",
   "metadata": {},
   "source": [
    "#### Visualize the nodes' degree distribution"
   ]
  },
  {
   "cell_type": "code",
   "execution_count": 29,
   "metadata": {},
   "outputs": [],
   "source": [
    "my_len = [] \n",
    "for node in links.keys():\n",
    "    my_len.append(len(links[node]))\n",
    "\n",
    "# dictionary with degree\n",
    "node_degree = dict(zip(links.keys(), my_len))\n",
    "d = Counter(node_degree)"
   ]
  },
  {
   "cell_type": "code",
   "execution_count": 30,
   "metadata": {},
   "outputs": [],
   "source": [
    "# degree distribution\n",
    "counter_supp = list()\n",
    "for i in range(1, max(my_len)):\n",
    "    counter_supp.append(my_len.count(i))\n",
    "counter_supp = [c/max(counter_supp) for c in counter_supp]"
   ]
  },
  {
   "cell_type": "code",
   "execution_count": 31,
   "metadata": {},
   "outputs": [],
   "source": [
    "# cumulative degree ditribution\n",
    "counter = [0]\n",
    "for i in range(1, max(my_len)):\n",
    "    counter.append(counter[-1]+my_len.count(i))\n",
    "counter = [c/max(counter) for c in counter]"
   ]
  },
  {
   "cell_type": "code",
   "execution_count": 39,
   "metadata": {},
   "outputs": [
    {
     "data": {
      "image/png": "[encoded data removed]",
      "text/plain": [
       "<Figure size 1080x432 with 1 Axes>"
      ]
     },
     "metadata": {
      "needs_background": "light"
     },
     "output_type": "display_data"
    }
   ],
   "source": [
    "plt.figure(figsize = (15,6))\n",
    "plt.plot(counter_supp)\n",
    "plt.xscale('log')\n",
    "plt.ylabel('Number of nodes')\n",
    "plt.xlabel('Degree')\n",
    "plt.title('Degree distribution')\n",
    "plt.show()"
   ]
  },
  {
   "cell_type": "code",
   "execution_count": 38,
   "metadata": {},
   "outputs": [
    {
     "data": {
      "image/png": "[encoded data removed]",
      "text/plain": [
       "<Figure size 1080x432 with 1 Axes>"
      ]
     },
     "metadata": {
      "needs_background": "light"
     },
     "output_type": "display_data"
    }
   ],
   "source": [
    "plt.figure(figsize = (15,6))\n",
    "plt.plot(counter)\n",
    "plt.xscale('log')\n",
    "plt.yscale('log')\n",
    "plt.ylabel('Number of nodes')\n",
    "plt.xlabel('Degree')\n",
    "plt.title('Cumulative degree distribution')\n",
    "plt.show()"
   ]
  },
  {
   "cell_type": "markdown",
   "metadata": {},
   "source": [
    "### In and out degree"
   ]
  },
  {
   "cell_type": "code",
   "execution_count": 16,
   "metadata": {},
   "outputs": [],
   "source": [
    "in_d = [] \n",
    "for node in in_links.keys():\n",
    "    in_d.append(len(in_links[node]))\n",
    "\n",
    "in_degree = dict(zip(in_links.keys(), in_d)) # dictionary with in-degree"
   ]
  },
  {
   "cell_type": "code",
   "execution_count": 17,
   "metadata": {},
   "outputs": [],
   "source": [
    "out_d = [] \n",
    "for node in out_links.keys():\n",
    "    out_d.append(len(out_links[node]))\n",
    "\n",
    "out_degree = dict(zip(out_links.keys(), out_d)) # dictionary with out-degree"
   ]
  },
  {
   "cell_type": "markdown",
   "metadata": {},
   "source": [
    "### Creating the graph with Networkx"
   ]
  },
  {
   "cell_type": "code",
   "execution_count": 13,
   "metadata": {},
   "outputs": [],
   "source": [
    "G = nx.Graph()"
   ]
  },
  {
   "cell_type": "code",
   "execution_count": 14,
   "metadata": {},
   "outputs": [],
   "source": [
    "for row in dataset.iterrows():\n",
    "    G.add_edge(row[1][0], row[1][1], capacity=1)"
   ]
  },
  {
   "cell_type": "code",
   "execution_count": 15,
   "metadata": {},
   "outputs": [],
   "source": [
    "def add_categories(my_category, G):\n",
    "    for i in my_category.keys():\n",
    "        G.nodes[i]['category']=my_category[i]\n",
    "    return G"
   ]
  },
  {
   "cell_type": "code",
   "execution_count": 16,
   "metadata": {
    "scrolled": true
   },
   "outputs": [
    {
     "data": {
      "text/plain": [
       "<networkx.classes.graph.Graph at 0x1fb5de825c8>"
      ]
     },
     "execution_count": 16,
     "metadata": {},
     "output_type": "execute_result"
    }
   ],
   "source": [
    "add_categories(categories_filtered, G)"
   ]
  },
  {
   "cell_type": "markdown",
   "metadata": {},
   "source": [
    "### Useful Functions"
   ]
  },
  {
   "cell_type": "code",
   "execution_count": 18,
   "metadata": {},
   "outputs": [],
   "source": [
    "def explore(node,limit):\n",
    "   \n",
    "    ''' This function takes as an input one node and a click limit.\n",
    "    Limit can be set to None if we don't want any limit.\n",
    "    The function returns a dictionary where keys are distances and values are all the nodes \n",
    "    which are at distance d (key) from the input node'''\n",
    "    \n",
    "    # initializing variables\n",
    "    distance_tree = {}\n",
    "    explored = set()\n",
    "    clicks = 1 \n",
    "    \n",
    "    # checking if node has at list one outlink\n",
    "    try:\n",
    "        out_nodes = set(out_links[node])\n",
    "    except:\n",
    "        print('No out-link from', node)\n",
    "        return distance_tree\n",
    "    \n",
    "    '''\n",
    "    1. We iterate until the new set of out-nodes to explore is non-empty \n",
    "    2. For each iteration we only consider unexplored nodes\n",
    "    3. If the node is a key in out_links, we add the set of nodes associated to it to the new set of nodes\n",
    "    4. We update all variables and increase distance by one'''\n",
    "\n",
    "    while out_nodes != set(): \n",
    "        \n",
    "        if limit != None:\n",
    "            if clicks > limit+1:        \n",
    "                return distance_tree\n",
    "        \n",
    "        distance_tree[clicks] = out_nodes\n",
    "        new_out_nodes = set() \n",
    "        \n",
    "        for node in out_nodes: \n",
    "            try:\n",
    "                new_out_nodes = new_out_nodes.union(set(out_links[node])) \n",
    "            except:\n",
    "                continue\n",
    "        \n",
    "        explored = explored.union(out_nodes) \n",
    "        out_nodes = new_out_nodes.difference(explored)\n",
    "        clicks += 1 \n",
    "    \n",
    "    return distance_tree"
   ]
  },
  {
   "cell_type": "code",
   "execution_count": 19,
   "metadata": {},
   "outputs": [],
   "source": [
    "def shortest_path (node1,node2):\n",
    "    \n",
    "    ''' This function takes in input two nodes and returns the length of the shortest path.\n",
    "    If node 1 does not have any outlink or if no path is found between node 1 and node 2, None is returned. '''\n",
    "    \n",
    "    # exeptions\n",
    "    if node1 == node2:\n",
    "        return 0, []\n",
    "    \n",
    "    # set of outnodes of node 1\n",
    "    try:\n",
    "        out_nodes = set(out_links[node1]) \n",
    "    except:\n",
    "        print('No out-link from', node1)\n",
    "        return 'Inf', []\n",
    "    \n",
    "    # initializing explored nodes set and minimum distance\n",
    "    explored = set() \n",
    "    clicks = 1\n",
    "    parents =  {node : {1:[node1]} for node in out_nodes}\n",
    "    \n",
    "    ''' ITERATIONS: we iterate until we find node 2. In the case in which we have not found node 2 \n",
    "    but we don't have any new node to explore, we assume the two nodes are disconnected.\n",
    "    \n",
    "    1. We check the new set of out-nodes to explore is non-empty \n",
    "    2. We iterate through unexplored nodes\n",
    "    3. If the node is a key in out_links, we add the set of nodes associated to it to the \n",
    "    new set of nodes in order to proceed with exploration\n",
    "    4. In order to retrieve the actual set of nodes met to get from node1 to node2,\n",
    "    for each explored node we save its parent (or parents) at each iteration and retrace the path\n",
    "    backwards from node2 to node 1.'''\n",
    "   \n",
    "    while node2 not in parents.keys(): \n",
    "        clicks += 1 \n",
    "        \n",
    "        if out_nodes != set(): \n",
    "            new_out_nodes = set() \n",
    "\n",
    "            for node in out_nodes:  \n",
    "                try:\n",
    "                    new_out_nodes = new_out_nodes.union(set(out_links[node]))\n",
    "                    for new_node in out_links[node]:\n",
    "                        if new_node in parents.keys():\n",
    "                            if clicks in parents[new_node]:\n",
    "                                parents[new_node][clicks].append(node)\n",
    "                            else:\n",
    "                                parents[new_node].update({clicks:[node]})\n",
    "                        else:\n",
    "                            parents[new_node] = {clicks:[node]}\n",
    "                except:\n",
    "                    continue\n",
    "\n",
    "            explored = explored.union(out_nodes)\n",
    "            out_nodes = new_out_nodes.difference(explored) \n",
    "    \n",
    "        else: \n",
    "            print('No path found')\n",
    "            return 'Inf', []\n",
    "    \n",
    "    path = [node2]\n",
    "    while path[-1] != node1:\n",
    "        path = get_reversed_path(parents,clicks,node2)\n",
    "    \n",
    "    return clicks, [node2]+path"
   ]
  },
  {
   "cell_type": "code",
   "execution_count": 20,
   "metadata": {},
   "outputs": [],
   "source": [
    "def get_reversed_path(parents, dist, node):\n",
    "    \n",
    "    '''we iterate backwards from node2 to node1 through the parents dictionary until we find node1 \n",
    "    at distance \"clicks\" from node 2. In the case of branched path we explore them randomly untile we \n",
    "    find the one we are interested in.'''\n",
    "    \n",
    "    path = []\n",
    "    for i in reversed(range(1,dist+1)):\n",
    "        parent_list = parents[node][i]\n",
    "        if len(parent_list) > 1:\n",
    "            index = random.randint(0,len(parent_list)-1)\n",
    "            parent = parent_list[index]\n",
    "        else:\n",
    "            parent = parent_list[0]\n",
    "        path.append(parent)\n",
    "        node = parent\n",
    "    \n",
    "    return path"
   ]
  },
  {
   "cell_type": "code",
   "execution_count": 27,
   "metadata": {},
   "outputs": [],
   "source": [
    "node2 = 1161925\n",
    "node3 = 134"
   ]
  },
  {
   "cell_type": "code",
   "execution_count": 28,
   "metadata": {},
   "outputs": [
    {
     "name": "stdout",
     "output_type": "stream",
     "text": [
      "Shortest path between 134 and 1161925 is [1161925, 1056157, 1165599, 1061485, 134] which requires 4 clicks\n"
     ]
    }
   ],
   "source": [
    "sp,path = shortest_path(node3,node2)\n",
    "print('Shortest path between', node3, 'and', node2, 'is', path, 'which requires', sp, 'clicks')"
   ]
  },
  {
   "cell_type": "code",
   "execution_count": 29,
   "metadata": {},
   "outputs": [
    {
     "name": "stdout",
     "output_type": "stream",
     "text": [
      "Exploration tree of node 134 has max distance 15\n"
     ]
    }
   ],
   "source": [
    "tree = explore(node3,None)\n",
    "print('Exploration tree of node', node3, 'has max distance', max(tree.keys()))"
   ]
  }
 ],
 "metadata": {
  "kernelspec": {
   "display_name": "Python 3",
   "language": "python",
   "name": "python3"
  },
  "language_info": {
   "codemirror_mode": {
    "name": "ipython",
    "version": 3
   },
   "file_extension": ".py",
   "mimetype": "text/x-python",
   "name": "python",
   "nbconvert_exporter": "python",
   "pygments_lexer": "ipython3",
   "version": "3.7.6"
  }
 },
 "nbformat": 4,
 "nbformat_minor": 4
}
