{
 "cells": [
  {
   "cell_type": "code",
   "execution_count": 35,
   "metadata": {},
   "outputs": [],
   "source": [
    "import pandas as pd\n",
    "from matplotlib.pyplot import figure\n",
    "import matplotlib.pyplot as plt\n",
    "from random import randint\n",
    "from collections import Counter \n",
    "import collections\n",
    "import statistics\n",
    "import time\n",
    "from itertools import chain \n",
    "import random\n",
    "import operator\n",
    "import copy\n",
    "import networkx as nx"
   ]
  },
  {
   "cell_type": "code",
   "execution_count": 36,
   "metadata": {},
   "outputs": [],
   "source": [
    "random.seed(42)"
   ]
  },
  {
   "cell_type": "markdown",
   "metadata": {},
   "source": [
    "### Importing and exploring data"
   ]
  },
  {
   "cell_type": "code",
   "execution_count": 37,
   "metadata": {},
   "outputs": [
    {
     "data": {
      "text/html": [
       "<div>\n",
       "<style scoped>\n",
       "    .dataframe tbody tr th:only-of-type {\n",
       "        vertical-align: middle;\n",
       "    }\n",
       "\n",
       "    .dataframe tbody tr th {\n",
       "        vertical-align: top;\n",
       "    }\n",
       "\n",
       "    .dataframe thead th {\n",
       "        text-align: right;\n",
       "    }\n",
       "</style>\n",
       "<table border=\"1\" class=\"dataframe\">\n",
       "  <thead>\n",
       "    <tr style=\"text-align: right;\">\n",
       "      <th></th>\n",
       "      <th>Unnamed: 0</th>\n",
       "      <th>0</th>\n",
       "      <th>1</th>\n",
       "    </tr>\n",
       "  </thead>\n",
       "  <tbody>\n",
       "    <tr>\n",
       "      <td>0</td>\n",
       "      <td>796</td>\n",
       "      <td>95</td>\n",
       "      <td>1185516</td>\n",
       "    </tr>\n",
       "    <tr>\n",
       "      <td>1</td>\n",
       "      <td>909</td>\n",
       "      <td>108</td>\n",
       "      <td>1059989</td>\n",
       "    </tr>\n",
       "    <tr>\n",
       "      <td>2</td>\n",
       "      <td>910</td>\n",
       "      <td>108</td>\n",
       "      <td>1062426</td>\n",
       "    </tr>\n",
       "    <tr>\n",
       "      <td>3</td>\n",
       "      <td>911</td>\n",
       "      <td>108</td>\n",
       "      <td>1161925</td>\n",
       "    </tr>\n",
       "    <tr>\n",
       "      <td>4</td>\n",
       "      <td>1141</td>\n",
       "      <td>134</td>\n",
       "      <td>541222</td>\n",
       "    </tr>\n",
       "  </tbody>\n",
       "</table>\n",
       "</div>"
      ],
      "text/plain": [
       "   Unnamed: 0    0        1\n",
       "0         796   95  1185516\n",
       "1         909  108  1059989\n",
       "2         910  108  1062426\n",
       "3         911  108  1161925\n",
       "4        1141  134   541222"
      ]
     },
     "execution_count": 37,
     "metadata": {},
     "output_type": "execute_result"
    }
   ],
   "source": [
    "dataset = pd.read_csv('C://Users//Eloisa//Desktop//UNI LORENZO//ADM//Homework 5//wikigraph_reduced.csv', sep='\\t', \n",
    "                      delimiter=None, header='infer',\n",
    "                      names=None, index_col=None, \n",
    "                      usecols=None, \n",
    "                      encoding = \"ISO-8859-1\")\n",
    "dataset.head()"
   ]
  },
  {
   "cell_type": "code",
   "execution_count": 38,
   "metadata": {},
   "outputs": [],
   "source": [
    "dataset.columns=['Index','Source','Target']"
   ]
  },
  {
   "cell_type": "code",
   "execution_count": 39,
   "metadata": {},
   "outputs": [
    {
     "name": "stdout",
     "output_type": "stream",
     "text": [
      "483094\n",
      "483094\n"
     ]
    }
   ],
   "source": [
    "# check if index columns has unique values\n",
    "print(len(dataset.Index))\n",
    "print(len(set(dataset.Index)))"
   ]
  },
  {
   "cell_type": "code",
   "execution_count": 40,
   "metadata": {},
   "outputs": [
    {
     "data": {
      "text/html": [
       "<div>\n",
       "<style scoped>\n",
       "    .dataframe tbody tr th:only-of-type {\n",
       "        vertical-align: middle;\n",
       "    }\n",
       "\n",
       "    .dataframe tbody tr th {\n",
       "        vertical-align: top;\n",
       "    }\n",
       "\n",
       "    .dataframe thead th {\n",
       "        text-align: right;\n",
       "    }\n",
       "</style>\n",
       "<table border=\"1\" class=\"dataframe\">\n",
       "  <thead>\n",
       "    <tr style=\"text-align: right;\">\n",
       "      <th></th>\n",
       "      <th>Source</th>\n",
       "      <th>Target</th>\n",
       "    </tr>\n",
       "    <tr>\n",
       "      <th>Index</th>\n",
       "      <th></th>\n",
       "      <th></th>\n",
       "    </tr>\n",
       "  </thead>\n",
       "  <tbody>\n",
       "    <tr>\n",
       "      <td>796</td>\n",
       "      <td>95</td>\n",
       "      <td>1185516</td>\n",
       "    </tr>\n",
       "    <tr>\n",
       "      <td>909</td>\n",
       "      <td>108</td>\n",
       "      <td>1059989</td>\n",
       "    </tr>\n",
       "    <tr>\n",
       "      <td>910</td>\n",
       "      <td>108</td>\n",
       "      <td>1062426</td>\n",
       "    </tr>\n",
       "    <tr>\n",
       "      <td>911</td>\n",
       "      <td>108</td>\n",
       "      <td>1161925</td>\n",
       "    </tr>\n",
       "    <tr>\n",
       "      <td>1141</td>\n",
       "      <td>134</td>\n",
       "      <td>541222</td>\n",
       "    </tr>\n",
       "  </tbody>\n",
       "</table>\n",
       "</div>"
      ],
      "text/plain": [
       "       Source   Target\n",
       "Index                 \n",
       "796        95  1185516\n",
       "909       108  1059989\n",
       "910       108  1062426\n",
       "911       108  1161925\n",
       "1141      134   541222"
      ]
     },
     "execution_count": 40,
     "metadata": {},
     "output_type": "execute_result"
    }
   ],
   "source": [
    "dataset.set_index('Index' , inplace = True)\n",
    "dataset.head()"
   ]
  },
  {
   "cell_type": "markdown",
   "metadata": {},
   "source": [
    "### Associate single category to each node"
   ]
  },
  {
   "cell_type": "code",
   "execution_count": 41,
   "metadata": {},
   "outputs": [],
   "source": [
    "# all nodes in and out\n",
    "unique_nodes = set(set(dataset.Source).union(set(dataset.Target)))\n",
    "n_nodes = len(unique_nodes)\n",
    "n_edges = len(dataset)"
   ]
  },
  {
   "cell_type": "code",
   "execution_count": 42,
   "metadata": {},
   "outputs": [],
   "source": [
    "category_file = 'C://Users//Eloisa//Desktop//UNI LORENZO//ADM//Homework 5//wiki-topcats-categories.txt'"
   ]
  },
  {
   "cell_type": "markdown",
   "metadata": {},
   "source": [
    "Non filtered categories"
   ]
  },
  {
   "cell_type": "code",
   "execution_count": 43,
   "metadata": {},
   "outputs": [],
   "source": [
    "categories_all = {v: [] for v in unique_nodes}\n",
    "no_category = []\n",
    "\n",
    "with open(category_file) as file:\n",
    "    for i in range(17364):\n",
    "        line = file.readline()\n",
    "        category = line.split(';')[0].split(':')[-1]\n",
    "        nodes = line.split(';')[1].split(' ')[1:-2]\n",
    "        \n",
    "        for node in nodes:\n",
    "            try:\n",
    "                categories_all[int(node)].append(category)\n",
    "            except:\n",
    "                no_category.append(int(node))"
   ]
  },
  {
   "cell_type": "markdown",
   "metadata": {},
   "source": [
    "Filtering categories"
   ]
  },
  {
   "cell_type": "code",
   "execution_count": 44,
   "metadata": {},
   "outputs": [],
   "source": [
    "nodes_category = {}\n",
    "for n in categories_all.keys():\n",
    "    try:\n",
    "        rand_category = random.choice(categories_all[n])\n",
    "        nodes_category[n] = rand_category\n",
    "    except:\n",
    "        nodes_category[n] = None"
   ]
  },
  {
   "cell_type": "code",
   "execution_count": 45,
   "metadata": {},
   "outputs": [],
   "source": [
    "category_nodes = {category:[] for category in set(nodes_category.values())}\n",
    "for node in nodes_category.keys():\n",
    "    try:\n",
    "        category_nodes[nodes_category[node]].append(node)\n",
    "    except:\n",
    "        continue"
   ]
  },
  {
   "cell_type": "markdown",
   "metadata": {},
   "source": [
    "### Create graph"
   ]
  },
  {
   "cell_type": "code",
   "execution_count": 46,
   "metadata": {},
   "outputs": [],
   "source": [
    "in_links = {v: [] for v in set(dataset.Target)}\n",
    "out_links = {v: [] for v in set(dataset.Source)}\n",
    "\n",
    "for row in dataset.iterrows():\n",
    "    source = row[1][0]\n",
    "    target = row[1][1]\n",
    "    in_links[target].append(source)\n",
    "    out_links[source].append(target)"
   ]
  },
  {
   "cell_type": "code",
   "execution_count": 47,
   "metadata": {},
   "outputs": [],
   "source": [
    "n_art_outlink = len(out_links)\n",
    "n_art_inlink = len(in_links)"
   ]
  },
  {
   "cell_type": "markdown",
   "metadata": {},
   "source": [
    "### In and out degree"
   ]
  },
  {
   "cell_type": "code",
   "execution_count": 48,
   "metadata": {},
   "outputs": [],
   "source": [
    "in_d = [] \n",
    "for node in in_links.keys():\n",
    "    in_d.append(len(in_links[node]))\n",
    "\n",
    "in_degree = dict(zip(in_links.keys(), in_d)) # dictionary with in-degree"
   ]
  },
  {
   "cell_type": "code",
   "execution_count": 49,
   "metadata": {},
   "outputs": [],
   "source": [
    "out_d = [] \n",
    "for node in out_links.keys():\n",
    "    out_d.append(len(out_links[node]))\n",
    "\n",
    "out_degree = dict(zip(out_links.keys(), out_d)) # dictionary with out-degree"
   ]
  },
  {
   "cell_type": "markdown",
   "metadata": {},
   "source": [
    "### Creating the graph with networkx"
   ]
  },
  {
   "cell_type": "code",
   "execution_count": 225,
   "metadata": {},
   "outputs": [],
   "source": [
    "Gd = nx.DiGraph()"
   ]
  },
  {
   "cell_type": "code",
   "execution_count": 226,
   "metadata": {},
   "outputs": [],
   "source": [
    "for row in dataset.iterrows():\n",
    "    Gd.add_edge(row[1][0], row[1][1], capacity=1)"
   ]
  },
  {
   "cell_type": "code",
   "execution_count": 227,
   "metadata": {},
   "outputs": [],
   "source": [
    "def add_categories(my_category, G):\n",
    "    for i in my_category.keys():\n",
    "        G.nodes[i]['category']=my_category[i]\n",
    "    return G"
   ]
  },
  {
   "cell_type": "code",
   "execution_count": 228,
   "metadata": {},
   "outputs": [
    {
     "data": {
      "text/plain": [
       "<networkx.classes.digraph.DiGraph at 0x22404c3bb88>"
      ]
     },
     "execution_count": 228,
     "metadata": {},
     "output_type": "execute_result"
    }
   ],
   "source": [
    "add_categories(nodes_category, Gd)"
   ]
  },
  {
   "cell_type": "markdown",
   "metadata": {},
   "source": [
    "## RQ2"
   ]
  },
  {
   "cell_type": "markdown",
   "metadata": {},
   "source": [
    "In order to build the requested function we essentially used the explore function defined in the python file and then we adapted the output to the request. <br> In the following function we return indeed just the list of nodes visited in d clicks instead of the dictionary obtained from the explore function. "
   ]
  },
  {
   "cell_type": "code",
   "execution_count": 23,
   "metadata": {},
   "outputs": [],
   "source": [
    "'''This function works as the explore function defined above, but with a different output format.'''\n",
    "def get_articles(node,n_clicks):\n",
    "    tree = explore(node_id,n_clicks)\n",
    "    articles = []\n",
    "    for d in tree.keys():\n",
    "        articles+=tree[d]\n",
    "    return articles"
   ]
  },
  {
   "cell_type": "markdown",
   "metadata": {},
   "source": [
    "At this point we decide to select three different nodes with different out-degrees:\n"
   ]
  },
  {
   "cell_type": "code",
   "execution_count": 24,
   "metadata": {},
   "outputs": [
    {
     "data": {
      "text/plain": [
       "3"
      ]
     },
     "execution_count": 24,
     "metadata": {},
     "output_type": "execute_result"
    }
   ],
   "source": [
    "a = 108\n",
    "out_degree.get(a)\n"
   ]
  },
  {
   "cell_type": "code",
   "execution_count": 25,
   "metadata": {},
   "outputs": [
    {
     "data": {
      "text/plain": [
       "268"
      ]
     },
     "execution_count": 25,
     "metadata": {},
     "output_type": "execute_result"
    }
   ],
   "source": [
    "b = 786913\n",
    "out_degree.get(b)\n"
   ]
  },
  {
   "cell_type": "code",
   "execution_count": 26,
   "metadata": {},
   "outputs": [
    {
     "data": {
      "text/plain": [
       "39"
      ]
     },
     "execution_count": 26,
     "metadata": {},
     "output_type": "execute_result"
    }
   ],
   "source": [
    "c = 786773\n",
    "out_degree.get(c)\n"
   ]
  },
  {
   "cell_type": "markdown",
   "metadata": {},
   "source": [
    "Now we see how many articles each node can reach in a fixed number of clicks ( in our case 10) and the we will comment the results:"
   ]
  },
  {
   "cell_type": "code",
   "execution_count": 27,
   "metadata": {},
   "outputs": [
    {
     "name": "stdout",
     "output_type": "stream",
     "text": [
      "Number of articles reached within 10 from node 108 : 63217\n",
      "Wall time: 1min 13s\n"
     ]
    }
   ],
   "source": [
    "%%time\n",
    "n_clicks = 10\n",
    "node_id = a\n",
    "articles = get_articles(node_id,n_clicks)\n",
    "print('Number of articles reached within', n_clicks, 'from node', node_id,':', len(articles))"
   ]
  },
  {
   "cell_type": "code",
   "execution_count": 28,
   "metadata": {},
   "outputs": [
    {
     "data": {
      "image/png": "[encoded data removed]",
      "text/plain": [
       "<Figure size 1080x432 with 1 Axes>"
      ]
     },
     "metadata": {
      "needs_background": "light"
     },
     "output_type": "display_data"
    }
   ],
   "source": [
    "graph = []\n",
    "for n_clicks in range(10):\n",
    "    graph.append(len(get_articles(node_id,n_clicks)))\n",
    "plt.figure(figsize = (15,6))\n",
    "plt.plot(graph,color = 'lightblue');\n",
    "plt.ylabel('Number of articles reached')\n",
    "plt.xlabel('Number of clicks')\n",
    "plt.title(f'Node {node_id}')\n",
    "plt.show()"
   ]
  },
  {
   "cell_type": "code",
   "execution_count": 29,
   "metadata": {},
   "outputs": [
    {
     "name": "stdout",
     "output_type": "stream",
     "text": [
      "Number of articles reached within 10 from node 786913 : 6605\n",
      "Wall time: 449 ms\n"
     ]
    }
   ],
   "source": [
    "%%time\n",
    "n_clicks = 10\n",
    "node_id = b\n",
    "articles = get_articles(node_id,n_clicks)\n",
    "print('Number of articles reached within', n_clicks, 'from node', node_id,':', len(articles))"
   ]
  },
  {
   "cell_type": "code",
   "execution_count": 30,
   "metadata": {},
   "outputs": [
    {
     "data": {
      "image/png": "[encoded data removed]",
      "text/plain": [
       "<Figure size 1080x432 with 1 Axes>"
      ]
     },
     "metadata": {
      "needs_background": "light"
     },
     "output_type": "display_data"
    }
   ],
   "source": [
    "graph = []\n",
    "for n_clicks in range(10):\n",
    "    graph.append(len(get_articles(node_id,n_clicks)))\n",
    "plt.figure(figsize = (15,6))\n",
    "plt.plot(graph,color = 'lightblue');\n",
    "plt.ylabel('Number of articles reached')\n",
    "plt.xlabel('Number of clicks')\n",
    "plt.title(f'Node {node_id}')\n",
    "plt.show()"
   ]
  },
  {
   "cell_type": "code",
   "execution_count": 31,
   "metadata": {},
   "outputs": [
    {
     "name": "stdout",
     "output_type": "stream",
     "text": [
      "Number of articles reached within 10 from node 786773 : 6586\n",
      "Wall time: 325 ms\n"
     ]
    }
   ],
   "source": [
    "%%time\n",
    "n_clicks = 10\n",
    "node_id = c\n",
    "articles = get_articles(node_id,n_clicks)\n",
    "print('Number of articles reached within', n_clicks, 'from node', node_id,':', len(articles))"
   ]
  },
  {
   "cell_type": "code",
   "execution_count": 32,
   "metadata": {},
   "outputs": [
    {
     "data": {
      "image/png": "[encoded data removed]",
      "text/plain": [
       "<Figure size 1080x432 with 1 Axes>"
      ]
     },
     "metadata": {
      "needs_background": "light"
     },
     "output_type": "display_data"
    }
   ],
   "source": [
    "graph = []\n",
    "for n_clicks in range(10):\n",
    "    graph.append(len(get_articles(node_id,n_clicks)))\n",
    "plt.figure(figsize = (15,6))\n",
    "plt.plot(graph,color = 'lightblue');\n",
    "plt.ylabel('Number of articles reached')\n",
    "plt.xlabel('Number of clicks')\n",
    "plt.title(f'Node {node_id}')\n",
    "plt.show()"
   ]
  },
  {
   "cell_type": "markdown",
   "metadata": {},
   "source": [
    "#### Comments on the obtained results: <br>\n",
    "We have analyzed three different nodes that have out-degree equal to 3, 268 and 39. <br>\n",
    "We can see that the trend of the curves are different: in the second and in the third case the curve tends to a certain value after some clicks while on the first case the curve seems to have an increasing trend even after 10 clicks. <br> So even if the first node is the one with the lowest out-degree, it is the node that can reach the highest number of nodes after a few clicks. That could be because it is like a hub that is linked to many nodes with high out-degree while the others two considered nodes are probably linked to nodes with low out-degree. <br> Finally we can say that starting the exploration from a node with high out-degree, does not mean to reach more nodes than starting from a node with lower out-degree."
   ]
  },
  {
   "cell_type": "markdown",
   "metadata": {},
   "source": [
    "### RQ3"
   ]
  },
  {
   "cell_type": "markdown",
   "metadata": {},
   "source": [
    "First of all we have decided to visualize the number of categories with grade equal to n where n is the number of nodes belonging to it. <br> So we build a dictionary where the key is the grade and the value is the number of the categories with that grade."
   ]
  },
  {
   "cell_type": "code",
   "execution_count": 33,
   "metadata": {},
   "outputs": [],
   "source": [
    "# Creating the list of the grades for each category\n",
    "abc = list(category_nodes.values())\n",
    "counter = []\n",
    "for elem in abc:\n",
    "    counter.append(len(elem))"
   ]
  },
  {
   "cell_type": "code",
   "execution_count": 34,
   "metadata": {},
   "outputs": [],
   "source": [
    "# Building the dictionary where, for each element of the set, we count the occurrencies and then we assign them to the grade\n",
    "num_of_cat_nodes = {}\n",
    "for elem in set(counter):\n",
    "    num_of_cat_nodes[elem] = counter.count(elem)\n",
    "    "
   ]
  },
  {
   "cell_type": "code",
   "execution_count": 35,
   "metadata": {},
   "outputs": [
    {
     "data": {
      "text/html": [
       "<div>\n",
       "<style scoped>\n",
       "    .dataframe tbody tr th:only-of-type {\n",
       "        vertical-align: middle;\n",
       "    }\n",
       "\n",
       "    .dataframe tbody tr th {\n",
       "        vertical-align: top;\n",
       "    }\n",
       "\n",
       "    .dataframe thead th {\n",
       "        text-align: right;\n",
       "    }\n",
       "</style>\n",
       "<table border=\"1\" class=\"dataframe\">\n",
       "  <thead>\n",
       "    <tr style=\"text-align: right;\">\n",
       "      <th></th>\n",
       "      <th>Grade of category</th>\n",
       "      <th>Number of categories</th>\n",
       "    </tr>\n",
       "  </thead>\n",
       "  <tbody>\n",
       "    <tr>\n",
       "      <td>0</td>\n",
       "      <td>1</td>\n",
       "      <td>1622</td>\n",
       "    </tr>\n",
       "    <tr>\n",
       "      <td>1</td>\n",
       "      <td>2</td>\n",
       "      <td>804</td>\n",
       "    </tr>\n",
       "    <tr>\n",
       "      <td>2</td>\n",
       "      <td>3</td>\n",
       "      <td>477</td>\n",
       "    </tr>\n",
       "    <tr>\n",
       "      <td>3</td>\n",
       "      <td>4</td>\n",
       "      <td>321</td>\n",
       "    </tr>\n",
       "    <tr>\n",
       "      <td>4</td>\n",
       "      <td>5</td>\n",
       "      <td>241</td>\n",
       "    </tr>\n",
       "    <tr>\n",
       "      <td>...</td>\n",
       "      <td>...</td>\n",
       "      <td>...</td>\n",
       "    </tr>\n",
       "    <tr>\n",
       "      <td>65</td>\n",
       "      <td>66</td>\n",
       "      <td>3</td>\n",
       "    </tr>\n",
       "    <tr>\n",
       "      <td>66</td>\n",
       "      <td>67</td>\n",
       "      <td>3</td>\n",
       "    </tr>\n",
       "    <tr>\n",
       "      <td>67</td>\n",
       "      <td>68</td>\n",
       "      <td>2</td>\n",
       "    </tr>\n",
       "    <tr>\n",
       "      <td>68</td>\n",
       "      <td>69</td>\n",
       "      <td>6</td>\n",
       "    </tr>\n",
       "    <tr>\n",
       "      <td>69</td>\n",
       "      <td>70</td>\n",
       "      <td>4</td>\n",
       "    </tr>\n",
       "  </tbody>\n",
       "</table>\n",
       "<p>70 rows × 2 columns</p>\n",
       "</div>"
      ],
      "text/plain": [
       "    Grade of category  Number of categories\n",
       "0                   1                  1622\n",
       "1                   2                   804\n",
       "2                   3                   477\n",
       "3                   4                   321\n",
       "4                   5                   241\n",
       "..                ...                   ...\n",
       "65                 66                     3\n",
       "66                 67                     3\n",
       "67                 68                     2\n",
       "68                 69                     6\n",
       "69                 70                     4\n",
       "\n",
       "[70 rows x 2 columns]"
      ]
     },
     "execution_count": 35,
     "metadata": {},
     "output_type": "execute_result"
    }
   ],
   "source": [
    "# Transforming the dictionary to a DataFrame in order to easily plot it\n",
    "df_forplot = pd.Series(num_of_cat_nodes).to_frame()\n",
    "df_final = df_forplot.reset_index()\n",
    "df_final.columns = ['Grade of category', 'Number of categories']\n",
    "final_df = df_final.sort_values(by=['Grade of category'], ascending=True)\n",
    "final_df.head(70)"
   ]
  },
  {
   "cell_type": "code",
   "execution_count": 36,
   "metadata": {},
   "outputs": [],
   "source": [
    "'''This function is used just to plot the exact value near every bar in the histogram plot'''\n",
    "def plot_values_in_barh(y):\n",
    "    for index, value in enumerate(y):\n",
    "        plt.text(value, index, str(round(value, 2)))"
   ]
  },
  {
   "cell_type": "code",
   "execution_count": 37,
   "metadata": {
    "scrolled": false
   },
   "outputs": [
    {
     "data": {
      "image/png": "[encoded data removed]",
      "text/plain": [
       "<Figure size 1080x3600 with 1 Axes>"
      ]
     },
     "metadata": {
      "needs_background": "light"
     },
     "output_type": "display_data"
    }
   ],
   "source": [
    "# Visualizing the number of categories with that grade\n",
    "ax = final_df.plot.barh(x='Grade of category', y='Number of categories', figsize = (15,50))\n",
    "plot_values_in_barh(list(final_df['Number of categories']))"
   ]
  },
  {
   "cell_type": "code",
   "execution_count": 38,
   "metadata": {},
   "outputs": [
    {
     "data": {
      "text/plain": [
       "30.01142857142857"
      ]
     },
     "execution_count": 38,
     "metadata": {},
     "output_type": "execute_result"
    }
   ],
   "source": [
    "# Visualizing the average size of a category in our network\n",
    "statistics.mean(final_df['Number of categories'])"
   ]
  },
  {
   "cell_type": "markdown",
   "metadata": {},
   "source": [
    "After this analysis we have thought to build a heuristic function that works in accetable time for the majority of categories."
   ]
  },
  {
   "cell_type": "markdown",
   "metadata": {},
   "source": [
    "#### Comments on the defined function :"
   ]
  },
  {
   "cell_type": "markdown",
   "metadata": {},
   "source": [
    "Since the problem’s complexity is high we have decided to implement a function which find a good trade off between accuracy and speed.\n",
    "Our function consists mainly in three steps: <br>\n",
    "1.**Initial checks** : \n",
    "    - Retrieve set of nodes in C\n",
    "    - At most one node with outdegree 0\n",
    "    - Stop when finished or stucked in a cycle\n",
    "2.**Criteria for choosing nodes** :\n",
    "    - Maximize the number of nodes of interested visited in one iteration \n",
    "    - Pick the node with the greatest outdegree\n",
    "    - Minimize the path \n",
    "3.**Final step** :\n",
    "    - Concatenate the paths of every step\n",
    "    - Return the minimum number of clicks required to reach all pages in p\n",
    "\n",
    "    "
   ]
  },
  {
   "cell_type": "markdown",
   "metadata": {},
   "source": [
    "Here an example of a not connected graph:"
   ]
  },
  {
   "cell_type": "code",
   "execution_count": 214,
   "metadata": {},
   "outputs": [
    {
     "name": "stdout",
     "output_type": "stream",
     "text": [
      "Nodes to visit [88453, 88665, 88672, 88968]\n",
      "Center is node 88968 with indegree 10\n",
      "Nodes to visit 2\n",
      "Path to 88672 : [88672, 88810, 88850, 88761, 88968]\n",
      "Nodes to visit 1\n",
      "Path to 88665 : [88665, 88886, 88860, 88672]\n",
      "Nodes {88453} cannot be reached from node 88665\n",
      "Not possible\n",
      "Wall time: 7min 2s\n"
     ]
    }
   ],
   "source": [
    "%%time\n",
    "res = visit_all('Genoa_C.F.C._players')\n",
    "print(res)"
   ]
  },
  {
   "cell_type": "markdown",
   "metadata": {},
   "source": [
    "Here an example of a connected graph:"
   ]
  },
  {
   "cell_type": "code",
   "execution_count": 234,
   "metadata": {},
   "outputs": [
    {
     "name": "stdout",
     "output_type": "stream",
     "text": [
      "Nodes to visit [76919, 81108, 82484, 82809, 82891, 83662, 84000, 84115, 84621]\n",
      "Center is node 82891 with indegree 32\n",
      "Nodes to visit 6\n",
      "Path to 82484 : [82484, 83114, 81942, 82350, 81875, 82891]\n",
      "Nodes to visit 5\n",
      "Path to 84115 : [84115, 83810, 83227, 81386, 82084, 80792, 82484]\n",
      "Nodes to visit 4\n",
      "Path to 82809 : [82809, 81856, 84115]\n",
      "Nodes to visit 3\n",
      "Path to 83662 : [83662, 81373, 82755, 81856, 82809]\n",
      "Nodes to visit 2\n",
      "Path to 84000 : [84000, 82479, 82779, 83662]\n",
      "Nodes to visit 1\n",
      "Path to 81108 : [81108, 81858, 81934, 81923, 84000]\n",
      "Nodes {84621, 76919} cannot be reached from node 81108\n",
      "Not possible\n",
      "Wall time: 19min 19s\n"
     ]
    }
   ],
   "source": [
    "%%time\n",
    "res = visit_all('Republic_of_Ireland_international_footballers')\n",
    "print(res)"
   ]
  },
  {
   "cell_type": "code",
   "execution_count": 216,
   "metadata": {},
   "outputs": [
    {
     "data": {
      "text/plain": [
       "14"
      ]
     },
     "execution_count": 216,
     "metadata": {},
     "output_type": "execute_result"
    }
   ],
   "source": [
    "len(res[0])"
   ]
  },
  {
   "cell_type": "code",
   "execution_count": 231,
   "metadata": {},
   "outputs": [],
   "source": [
    "# Commento da aggiungere\n",
    "no = set(res[0]) - set(res[1])\n",
    "yes = set(res[1])\n",
    "c = set([res[1][-1]])\n",
    "no_col = ['black']*len(no)\n",
    "yes_col = ['green']*len(yes)\n",
    "c_col = ['red']\n",
    "a = dict(zip(no,no_col))\n",
    "b = dict(zip(yes,yes_col))\n",
    "c = dict(zip(c,c_col))\n",
    "a.update(b)\n",
    "a.update(c)"
   ]
  },
  {
   "cell_type": "code",
   "execution_count": 232,
   "metadata": {},
   "outputs": [],
   "source": [
    "# Building the graph of the analyzed category \n",
    "reduced_graph = G.copy()\n",
    "for i in list(G.nodes):\n",
    "    if i in a.keys():\n",
    "        pass\n",
    "    else:\n",
    "        reduced_graph.remove_node(i)\n",
    "color_map =[]\n",
    "for node in reduced_graph:\n",
    "    color_map.append(a[node])\n"
   ]
  },
  {
   "cell_type": "markdown",
   "metadata": {},
   "source": [
    "At this point we show the graph where:\n",
    "- RED node is the central node\n",
    "- GREEN nodes belong to the set of pages we are considering\n",
    "- BLACK nodes are the one we pass through but we do not consider in the category"
   ]
  },
  {
   "cell_type": "code",
   "execution_count": 233,
   "metadata": {},
   "outputs": [
    {
     "name": "stderr",
     "output_type": "stream",
     "text": [
      "C:\\Users\\Eloisa\\Anaconda3\\lib\\site-packages\\networkx\\drawing\\nx_pylab.py:676: MatplotlibDeprecationWarning: \n",
      "The iterable function was deprecated in Matplotlib 3.1 and will be removed in 3.3. Use np.iterable instead.\n",
      "  if cb.iterable(node_size):  # many node sizes\n"
     ]
    },
    {
     "data": {
      "image/png": "[encoded data removed]",
      "text/plain": [
       "<Figure size 864x864 with 1 Axes>"
      ]
     },
     "metadata": {},
     "output_type": "display_data"
    }
   ],
   "source": [
    "plt.figure(1, figsize=(12,12))\n",
    "nx.draw(reduced_graph, node_color = color_map, with_labels=False, edge_color='gray', verticalalignment='bottom', font_size = 20)\n",
    "plt.show()"
   ]
  },
  {
   "cell_type": "markdown",
   "metadata": {},
   "source": [
    "### Useful functions"
   ]
  },
  {
   "cell_type": "code",
   "execution_count": 17,
   "metadata": {},
   "outputs": [],
   "source": [
    "def explore(node,limit):\n",
    "   \n",
    "    ''' This function takes as an input one node and a click limit.\n",
    "    Limit can be set to None if we don't want any limit.\n",
    "    The function returns a dictionary where keys are distances and values are all the nodes \n",
    "    which are at distance d (key) from the input node'''\n",
    "    \n",
    "    # initializing variables\n",
    "    distance_tree = {}\n",
    "    explored = set()\n",
    "    clicks = 1 \n",
    "    \n",
    "    # checking if node has at list one outlink\n",
    "    try:\n",
    "        out_nodes = set(out_links[node])\n",
    "    except:\n",
    "        print('No out-link from', node)\n",
    "        return distance_tree\n",
    "    \n",
    "    '''\n",
    "    1. We iterate until the new set of out-nodes to explore is non-empty \n",
    "    2. For each iteration we only consider unexplored nodes\n",
    "    3. If the node is a key in out_links, we add the set of nodes associated to it to the new set of nodes\n",
    "    4. We update all variables and increase distance by one'''\n",
    "\n",
    "    while out_nodes != set(): \n",
    "        \n",
    "        if limit != None:\n",
    "            if clicks > limit+1:        \n",
    "                return distance_tree\n",
    "        \n",
    "        distance_tree[clicks] = out_nodes\n",
    "        new_out_nodes = set() \n",
    "        \n",
    "        for node in out_nodes: \n",
    "            try:\n",
    "                new_out_nodes = new_out_nodes.union(set(out_links[node])) \n",
    "            except:\n",
    "                continue\n",
    "        \n",
    "        explored = explored.union(out_nodes) \n",
    "        out_nodes = new_out_nodes.difference(explored)\n",
    "        clicks += 1 \n",
    "    \n",
    "    return distance_tree"
   ]
  },
  {
   "cell_type": "code",
   "execution_count": 18,
   "metadata": {},
   "outputs": [],
   "source": [
    "def shortest_path (node1,node2):\n",
    "    \n",
    "    ''' This function takes in input two nodes and returns the length of the shortest path.\n",
    "    If node 1 does not have any outlink or if no path is found between node 1 and node 2, None is returned. '''\n",
    "    \n",
    "    # exeptions\n",
    "    if node1 == node2:\n",
    "        return 0, []\n",
    "    \n",
    "    # set of outnodes of node 1\n",
    "    try:\n",
    "        out_nodes = set(out_links[node1]) \n",
    "    except:\n",
    "        print('No out-link from', node1)\n",
    "        return 'Inf', []\n",
    "    \n",
    "    # initializing explored nodes set and minimum distance\n",
    "    explored = set() \n",
    "    clicks = 1\n",
    "    parents =  {node : {1:[node1]} for node in out_nodes}\n",
    "    \n",
    "    ''' ITERATIONS: we iterate until we find node 2. In the case in which we have not found node 2 \n",
    "    but we don't have any new node to explore, we assume the two nodes are disconnected.\n",
    "    \n",
    "    1. We check the new set of out-nodes to explore is non-empty \n",
    "    2. We iterate through unexplored nodes\n",
    "    3. If the node is a key in out_links, we add the set of nodes associated to it to the \n",
    "    new set of nodes in order to proceed with exploration\n",
    "    4. In order to retrieve the actual set of nodes met to get from node1 to node2,\n",
    "    for each explored node we save its parent (or parents) at each iteration and retrace the path\n",
    "    backwards from node2 to node 1.'''\n",
    "   \n",
    "    while node2 not in parents.keys(): \n",
    "        clicks += 1 \n",
    "        \n",
    "        if out_nodes != set(): \n",
    "            new_out_nodes = set() \n",
    "\n",
    "            for node in out_nodes:  \n",
    "                try:\n",
    "                    new_out_nodes = new_out_nodes.union(set(out_links[node]))\n",
    "                    for new_node in out_links[node]:\n",
    "                        if new_node in parents.keys():\n",
    "                            if clicks in parents[new_node]:\n",
    "                                parents[new_node][clicks].append(node)\n",
    "                            else:\n",
    "                                parents[new_node].update({clicks:[node]})\n",
    "                        else:\n",
    "                            parents[new_node] = {clicks:[node]}\n",
    "                except:\n",
    "                    continue\n",
    "\n",
    "            explored = explored.union(out_nodes)\n",
    "            out_nodes = new_out_nodes.difference(explored) \n",
    "    \n",
    "        else: \n",
    "            print('No path found')\n",
    "            return 'Inf', []\n",
    "    \n",
    "    path = [node2]\n",
    "    while path[-1] != node1:\n",
    "        path = get_reversed_path(parents,clicks,node2)\n",
    "    \n",
    "    return clicks, [node2]+path"
   ]
  },
  {
   "cell_type": "code",
   "execution_count": 188,
   "metadata": {},
   "outputs": [],
   "source": [
    "def visit_all(C):\n",
    "    \n",
    "    ''' PRIMARY STEPS :\n",
    "    1. We retrieve the set of nodes in C\n",
    "    2. We find the center and check that it exists (meaning that at list one node has a non zero in-degree)\n",
    "    3. We check that at most one node has outdegree 0'''\n",
    "    \n",
    "    p = copy.copy(category_nodes[C])\n",
    "    max_indeg = 0\n",
    "    out_deg_p = {}\n",
    "    center = ''\n",
    "    \n",
    "    for node in p:\n",
    "        if node in in_links.keys():    \n",
    "            if len(in_links[node]) > max_indeg:\n",
    "                center = node\n",
    "                max_indeg = len(in_links[node])\n",
    "        try:\n",
    "            out_deg_p[node] = len(out_links[node])\n",
    "        except:\n",
    "            out_deg_p[node] = 0\n",
    "    \n",
    "    zero_outdeg = list(out_deg_p.values()).count(0)\n",
    "    \n",
    "    p = set_of_pages(p)\n",
    "    print('Nodes to visit', p)\n",
    "    \n",
    "    if center == '' or zero_outdeg > 1:\n",
    "        print('More than one node has outdegree zero')\n",
    "        return 'Not possible'\n",
    "    elif center in p:\n",
    "        p.remove(center)\n",
    "    \n",
    "    print('Center is node', center, 'with indegree', max_indeg)\n",
    "    \n",
    "    ''' SECONDARY STEPS :\n",
    "    Now we apply the \"get_next\" function until we either find all nodes or we are stuck for two consecutive\n",
    "    iterations at the same node'''\n",
    "    \n",
    "    start = center\n",
    "    exploration = [center]\n",
    "    to_visit = set(copy.copy(p))\n",
    "    \n",
    "    while len(to_visit) >= 1:\n",
    "        tree = explore(start, None)\n",
    "        next_node, path, visited = get_next(start,to_visit,tree,out_deg_p)\n",
    "        if next_node == start or next_node == None or path == []:\n",
    "            return 'Not possible'\n",
    "        exploration += path + [next_node]\n",
    "        to_visit =  to_visit - visited\n",
    "        start = next_node\n",
    "    \n",
    "    return exploration, p+[center]"
   ]
  },
  {
   "cell_type": "code",
   "execution_count": 19,
   "metadata": {},
   "outputs": [],
   "source": [
    "def get_reversed_path(parents, dist, node):\n",
    "    \n",
    "    '''we iterate backwards from node2 to node1 through the parents dictionary until we find node1 \n",
    "    at distance \"clicks\" from node 2. In the case of branched path we explore them randomly untile we \n",
    "    find the one we are interested in.'''\n",
    "    \n",
    "    path = []\n",
    "    for i in reversed(range(1,dist+1)):\n",
    "        parent_list = parents[node][i]\n",
    "        if len(parent_list) > 1:\n",
    "            index = random.randint(0,len(parent_list)-1)\n",
    "            parent = parent_list[index]\n",
    "        else:\n",
    "            parent = parent_list[0]\n",
    "        path.append(parent)\n",
    "        node = parent\n",
    "    \n",
    "    return path"
   ]
  },
  {
   "cell_type": "code",
   "execution_count": 56,
   "metadata": {},
   "outputs": [],
   "source": [
    "'''This function returns a subset of a list excluding the empty one.\n",
    "   We use this function to get a set of poages from the requeted category'''\n",
    " \n",
    "\n",
    "def set_of_pages(l):\n",
    "    l_index = randint(0, len(l) - 1)\n",
    "    r_index = randint(l_index + 1, len(l))\n",
    "    new_list = l[l_index:r_index]\n",
    "    return new_list"
   ]
  },
  {
   "cell_type": "code",
   "execution_count": 189,
   "metadata": {},
   "outputs": [],
   "source": [
    "def get_next(start, p, tree, out_deg_p):\n",
    "        \n",
    "    ''' We want to sort all nodes left to visit by their distance from the starting node, in decreasing order.\n",
    "    The nodes are sorted in this way to be more time efficient, since we avoid to look two times for the same \n",
    "    shortest path.\n",
    "    1. We create a set of nodes that we want to find and generate the exploration tree of our start node.\n",
    "    2. We iterate all the distances in the tree and if we find any of the nodes of interest we save them \n",
    "    in a dictionary.\n",
    "    3. We get the list of nodes nodes to be visited sorted by furthest to the nearest. '''\n",
    "    \n",
    "    p_decreasing = sort_nodes(tree, p)\n",
    "    if p_decreasing ==[]:\n",
    "        print('Nodes', p, 'cannot be reached from node', start)\n",
    "        return None, [], set()\n",
    "    \n",
    "    print('Nodes to visit', len(p_decreasing))\n",
    "        \n",
    "    ''' Now we want to get all shortest paths from start node to any other node left to visit. \n",
    "    1. We have a set of nodes to visit to be iterated in a specific order. We always pick the one which is \n",
    "    further away from the start node (element 0).\n",
    "    2. We save the shortest path to this node in a dictionary, remove the node from the list of nodes to visit \n",
    "    and save the nodes that we have met along the path if they are in the set of nodes to visit.\n",
    "    3. We remove all the other nodes of interest met along the way from the set of nodes to visit. \n",
    "    \n",
    "    notice: we alredy know that these nodes will not have the greatest number of crossed nodes '''\n",
    "    \n",
    "    rel_path, crossed = get_paths(p_decreasing, p, start)\n",
    "    \n",
    "    ''' Among all nodes that are left to visit we pick as \"next\" according to this features:\n",
    "    1. We check the node that maximises the number of crossed nodes. However if the outdegree of this node is \n",
    "    zero we check if we have any othe node to visit, if yes, we discard this node.\n",
    "    2. If two nodes cross the same number of nodes, we pick the one with higher outdegree.\n",
    "    3. If two nodes cross the same number of nodes and have equal outdegree, we pick the closer one'''\n",
    "    \n",
    "    best_node = p_decreasing[0]\n",
    "    max_crossed = len(crossed[best_node])\n",
    "    \n",
    "    for node in crossed.keys():\n",
    "        if len(crossed[node]) > max_crossed:\n",
    "            if out_deg_p[node] == 0:\n",
    "                if p - set(rel_path[node]+[best_node]) == set():\n",
    "                    best_node = node\n",
    "                    max_crossed = len(crossed[node])\n",
    "            else:\n",
    "                best_node = node\n",
    "                max_crossed = len(crossed[node])\n",
    "\n",
    "        elif len(crossed[node]) == max_crossed:          \n",
    "            if out_deg_p[node] > out_deg_p[best_node] : \n",
    "                    best_node = node\n",
    "            elif len(crossed[node]) > len(crossed[best_node]):\n",
    "                best_node = node\n",
    "\n",
    "    if rel_path[best_node] == []:\n",
    "        print('Cannot reach', best_node)\n",
    "    else:\n",
    "        print('Path to', best_node, ':', rel_path[best_node])\n",
    "    \n",
    "    return best_node, rel_path[best_node], set(rel_path[best_node]+[best_node])"
   ]
  },
  {
   "cell_type": "code",
   "execution_count": 22,
   "metadata": {},
   "outputs": [],
   "source": [
    "def sort_nodes(tree, p):\n",
    "    \n",
    "    distances = {}\n",
    "    to_find = set(copy.copy(p))\n",
    "    for d in tree.keys():\n",
    "        visited = set(tree[d]).intersection(to_find)\n",
    "        distances[d] = visited                 \n",
    "    \n",
    "    p_decreasing = collections.OrderedDict(sorted(distances.items()))\n",
    "    p_decreasing = list(chain.from_iterable(list(p_decreasing.values())))\n",
    "        \n",
    "    return p_decreasing"
   ]
  },
  {
   "cell_type": "code",
   "execution_count": 208,
   "metadata": {},
   "outputs": [],
   "source": [
    "def get_paths(p_decreasing, p, start):\n",
    "    \n",
    "    rel_path = {node:[] for node in p}\n",
    "    crossed = {node:[] for node in p}\n",
    "    to_visit = copy.copy(p_decreasing)\n",
    "    \n",
    "    while len(to_visit) >= 1:\n",
    "        node = to_visit[0]\n",
    "        clicks,path = shortest_path(start, node)\n",
    "        rel_path[node] = path\n",
    "        crossed_list = set(path).intersection(set(to_visit)) \n",
    "        crossed[node] = crossed_list \n",
    "        to_visit.remove(node)\n",
    "        for node_a in crossed_list:\n",
    "            if node_a in to_visit:\n",
    "                to_visit.remove(node_a)\n",
    "                \n",
    "    return rel_path, crossed"
   ]
  },
  {
   "cell_type": "code",
   "execution_count": null,
   "metadata": {},
   "outputs": [],
   "source": []
  }
 ],
 "metadata": {
  "kernelspec": {
   "display_name": "Python 3",
   "language": "python",
   "name": "python3"
  },
  "language_info": {
   "codemirror_mode": {
    "name": "ipython",
    "version": 3
   },
   "file_extension": ".py",
   "mimetype": "text/x-python",
   "name": "python",
   "nbconvert_exporter": "python",
   "pygments_lexer": "ipython3",
   "version": "3.7.4"
  }
 },
 "nbformat": 4,
 "nbformat_minor": 2
}
