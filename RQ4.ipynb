{
 "cells": [
  {
   "cell_type": "code",
   "execution_count": 1,
   "metadata": {},
   "outputs": [],
   "source": [
    "import pandas as pd\n",
    "from matplotlib.pyplot import figure\n",
    "import matplotlib.pyplot as plt\n",
    "import random"
   ]
  },
  {
   "cell_type": "code",
   "execution_count": 2,
   "metadata": {},
   "outputs": [],
   "source": [
    "import networkx as nx"
   ]
  },
  {
   "cell_type": "code",
   "execution_count": 3,
   "metadata": {},
   "outputs": [],
   "source": [
    "random.seed(42)"
   ]
  },
  {
   "cell_type": "code",
   "execution_count": 4,
   "metadata": {},
   "outputs": [
    {
     "data": {
      "text/html": [
       "<div>\n",
       "<style scoped>\n",
       "    .dataframe tbody tr th:only-of-type {\n",
       "        vertical-align: middle;\n",
       "    }\n",
       "\n",
       "    .dataframe tbody tr th {\n",
       "        vertical-align: top;\n",
       "    }\n",
       "\n",
       "    .dataframe thead th {\n",
       "        text-align: right;\n",
       "    }\n",
       "</style>\n",
       "<table border=\"1\" class=\"dataframe\">\n",
       "  <thead>\n",
       "    <tr style=\"text-align: right;\">\n",
       "      <th></th>\n",
       "      <th>Unnamed: 0</th>\n",
       "      <th>0</th>\n",
       "      <th>1</th>\n",
       "    </tr>\n",
       "  </thead>\n",
       "  <tbody>\n",
       "    <tr>\n",
       "      <th>0</th>\n",
       "      <td>796</td>\n",
       "      <td>95</td>\n",
       "      <td>1185516</td>\n",
       "    </tr>\n",
       "    <tr>\n",
       "      <th>1</th>\n",
       "      <td>909</td>\n",
       "      <td>108</td>\n",
       "      <td>1059989</td>\n",
       "    </tr>\n",
       "    <tr>\n",
       "      <th>2</th>\n",
       "      <td>910</td>\n",
       "      <td>108</td>\n",
       "      <td>1062426</td>\n",
       "    </tr>\n",
       "    <tr>\n",
       "      <th>3</th>\n",
       "      <td>911</td>\n",
       "      <td>108</td>\n",
       "      <td>1161925</td>\n",
       "    </tr>\n",
       "    <tr>\n",
       "      <th>4</th>\n",
       "      <td>1141</td>\n",
       "      <td>134</td>\n",
       "      <td>541222</td>\n",
       "    </tr>\n",
       "  </tbody>\n",
       "</table>\n",
       "</div>"
      ],
      "text/plain": [
       "   Unnamed: 0    0        1\n",
       "0         796   95  1185516\n",
       "1         909  108  1059989\n",
       "2         910  108  1062426\n",
       "3         911  108  1161925\n",
       "4        1141  134   541222"
      ]
     },
     "execution_count": 4,
     "metadata": {},
     "output_type": "execute_result"
    }
   ],
   "source": [
    "dataset = pd.read_csv('wikigraph_reduced.csv', sep='\\t', \n",
    "                      delimiter=None, header='infer',\n",
    "                      names=None, index_col=None, \n",
    "                      usecols=None, \n",
    "                      encoding = \"ISO-8859-1\")\n",
    "dataset.head()"
   ]
  },
  {
   "cell_type": "code",
   "execution_count": 5,
   "metadata": {},
   "outputs": [],
   "source": [
    "dataset.columns=['Index','Source','Target']"
   ]
  },
  {
   "cell_type": "code",
   "execution_count": 6,
   "metadata": {},
   "outputs": [
    {
     "name": "stdout",
     "output_type": "stream",
     "text": [
      "483094\n",
      "483094\n"
     ]
    }
   ],
   "source": [
    "# check if index columns has unique values\n",
    "print(len(dataset.Index))\n",
    "print(len(set(dataset.Index)))"
   ]
  },
  {
   "cell_type": "code",
   "execution_count": 7,
   "metadata": {
    "scrolled": false
   },
   "outputs": [
    {
     "data": {
      "text/html": [
       "<div>\n",
       "<style scoped>\n",
       "    .dataframe tbody tr th:only-of-type {\n",
       "        vertical-align: middle;\n",
       "    }\n",
       "\n",
       "    .dataframe tbody tr th {\n",
       "        vertical-align: top;\n",
       "    }\n",
       "\n",
       "    .dataframe thead th {\n",
       "        text-align: right;\n",
       "    }\n",
       "</style>\n",
       "<table border=\"1\" class=\"dataframe\">\n",
       "  <thead>\n",
       "    <tr style=\"text-align: right;\">\n",
       "      <th></th>\n",
       "      <th>Source</th>\n",
       "      <th>Target</th>\n",
       "    </tr>\n",
       "    <tr>\n",
       "      <th>Index</th>\n",
       "      <th></th>\n",
       "      <th></th>\n",
       "    </tr>\n",
       "  </thead>\n",
       "  <tbody>\n",
       "    <tr>\n",
       "      <th>796</th>\n",
       "      <td>95</td>\n",
       "      <td>1185516</td>\n",
       "    </tr>\n",
       "    <tr>\n",
       "      <th>909</th>\n",
       "      <td>108</td>\n",
       "      <td>1059989</td>\n",
       "    </tr>\n",
       "    <tr>\n",
       "      <th>910</th>\n",
       "      <td>108</td>\n",
       "      <td>1062426</td>\n",
       "    </tr>\n",
       "    <tr>\n",
       "      <th>911</th>\n",
       "      <td>108</td>\n",
       "      <td>1161925</td>\n",
       "    </tr>\n",
       "    <tr>\n",
       "      <th>1141</th>\n",
       "      <td>134</td>\n",
       "      <td>541222</td>\n",
       "    </tr>\n",
       "  </tbody>\n",
       "</table>\n",
       "</div>"
      ],
      "text/plain": [
       "       Source   Target\n",
       "Index                 \n",
       "796        95  1185516\n",
       "909       108  1059989\n",
       "910       108  1062426\n",
       "911       108  1161925\n",
       "1141      134   541222"
      ]
     },
     "execution_count": 7,
     "metadata": {},
     "output_type": "execute_result"
    }
   ],
   "source": [
    "dataset.set_index('Index' , inplace = True)\n",
    "dataset.head()"
   ]
  },
  {
   "cell_type": "markdown",
   "metadata": {},
   "source": [
    "#### Associate single category to each node"
   ]
  },
  {
   "cell_type": "code",
   "execution_count": 8,
   "metadata": {},
   "outputs": [],
   "source": [
    "# all nodes in and out\n",
    "unique_nodes = set(set(dataset.Source).union(set(dataset.Target)))\n",
    "n_nodes = len(unique_nodes)\n",
    "n_edges = len(dataset)"
   ]
  },
  {
   "cell_type": "code",
   "execution_count": 9,
   "metadata": {
    "scrolled": true
   },
   "outputs": [
    {
     "data": {
      "text/plain": [
       "98343"
      ]
     },
     "execution_count": 9,
     "metadata": {},
     "output_type": "execute_result"
    }
   ],
   "source": [
    "n_nodes"
   ]
  },
  {
   "cell_type": "code",
   "execution_count": 10,
   "metadata": {},
   "outputs": [],
   "source": [
    "category_file = 'wiki-topcats-categories.txt'"
   ]
  },
  {
   "cell_type": "code",
   "execution_count": 11,
   "metadata": {},
   "outputs": [],
   "source": [
    "categories = {v: [] for v in unique_nodes}\n",
    "lost = []\n",
    "with open(category_file) as file:\n",
    "    for i in range(17364):\n",
    "        line = file.readline()\n",
    "        category = line.split(';')[0].split(':')[-1]\n",
    "        nodes = line.split(';')[1].split(' ')[1:-2]\n",
    "        for node in nodes:\n",
    "            try:\n",
    "                categories[int(node)].append(category)\n",
    "            except:\n",
    "                lost.append(int(node))"
   ]
  },
  {
   "cell_type": "code",
   "execution_count": 12,
   "metadata": {},
   "outputs": [],
   "source": [
    "categories_filtered = {}\n",
    "for n in categories.keys():\n",
    "    try:\n",
    "        rand_category = random.choice(categories[n])\n",
    "        categories_filtered[n] = rand_category\n",
    "    except:\n",
    "        categories_filtered[n] = None"
   ]
  },
  {
   "cell_type": "markdown",
   "metadata": {},
   "source": [
    "### Creating the graph with Networkx"
   ]
  },
  {
   "cell_type": "code",
   "execution_count": 13,
   "metadata": {},
   "outputs": [],
   "source": [
    "G = nx.Graph()"
   ]
  },
  {
   "cell_type": "code",
   "execution_count": 14,
   "metadata": {},
   "outputs": [],
   "source": [
    "for row in dataset.iterrows():\n",
    "    G.add_edge(row[1][0], row[1][1], capacity=1)"
   ]
  },
  {
   "cell_type": "code",
   "execution_count": 15,
   "metadata": {},
   "outputs": [],
   "source": [
    "def add_categories(my_category, G):\n",
    "    for i in my_category.keys():\n",
    "        G.nodes[i]['category']=my_category[i]\n",
    "    return G"
   ]
  },
  {
   "cell_type": "code",
   "execution_count": 16,
   "metadata": {
    "scrolled": true
   },
   "outputs": [
    {
     "data": {
      "text/plain": [
       "<networkx.classes.graph.Graph at 0x1fb5de825c8>"
      ]
     },
     "execution_count": 16,
     "metadata": {},
     "output_type": "execute_result"
    }
   ],
   "source": [
    "add_categories(categories_filtered, G)"
   ]
  },
  {
   "cell_type": "markdown",
   "metadata": {},
   "source": [
    "## RQ4"
   ]
  },
  {
   "cell_type": "markdown",
   "metadata": {},
   "source": [
    "Given in input two categories: C1 and C2, we get the subgraph induced by all the articles in the two categories.\n",
    "\n",
    "- Let v and u two arbitrary pages in the subgraph. What is the minimum set of hyperlinks one can remove to disconnect u and v?"
   ]
  },
  {
   "cell_type": "markdown",
   "metadata": {},
   "source": [
    "#### Make the graph undirected"
   ]
  },
  {
   "cell_type": "code",
   "execution_count": 17,
   "metadata": {},
   "outputs": [],
   "source": [
    "H = G.to_undirected()"
   ]
  },
  {
   "cell_type": "markdown",
   "metadata": {},
   "source": [
    "#### Given in input two categories: C1 and C2, we get the subgraph induced by all the articles in the two categories."
   ]
  },
  {
   "cell_type": "code",
   "execution_count": 18,
   "metadata": {},
   "outputs": [],
   "source": [
    "def get_subgraph(G, c1, c2):\n",
    "    new_graph = G.copy()\n",
    "    for i in list(new_graph.nodes):\n",
    "        if new_graph.nodes[i]['category']!=c1 and new_graph.nodes[i]['category']!=c2:\n",
    "            new_graph.remove_node(i)\n",
    "    return new_graph"
   ]
  },
  {
   "cell_type": "code",
   "execution_count": 19,
   "metadata": {},
   "outputs": [
    {
     "data": {
      "text/plain": [
       "721"
      ]
     },
     "execution_count": 19,
     "metadata": {},
     "output_type": "execute_result"
    }
   ],
   "source": [
    "H = get_subgraph(H, 'American_television_actors', 'Films_based_on_novels')\n",
    "H.number_of_edges()"
   ]
  },
  {
   "cell_type": "markdown",
   "metadata": {},
   "source": [
    "## Functions"
   ]
  },
  {
   "cell_type": "code",
   "execution_count": 20,
   "metadata": {},
   "outputs": [],
   "source": [
    "class BreakException(Exception):\n",
    "    pass\n",
    "\n",
    "def path_not_found():\n",
    "    raise BreakException()\n",
    "\n",
    "def shortest_path(g, u, v):\n",
    "    \n",
    "    '''\n",
    "    It is a \"BFS\" method and return the first path with minimum distance from u to v \n",
    "    \n",
    "    '''\n",
    "    if u == v:\n",
    "        return 'same node'  \n",
    "    \n",
    "    visited = [] #list of visited nodes\n",
    "    queue = [[u]] #queue structure\n",
    "    \n",
    "    visited.append(u) #add u to visited list\n",
    "    \n",
    "    nodes = [] #list of nodes --> path\n",
    "    \n",
    "    #calculate all paths with n distance\n",
    "    #when i have v in nodes return nodes\n",
    "    while queue:\n",
    "        s = queue.pop(0)\n",
    "\n",
    "        for neighbour in g[s[-1]]:\n",
    "            if neighbour not in visited:\n",
    "                nodes = list(s)\n",
    "                nodes.append(neighbour)\n",
    "                queue.append(nodes)\n",
    "                visited.append(neighbour)\n",
    "                \n",
    "                if neighbour == v:\n",
    "                    return nodes\n",
    "                \n",
    "    return path_not_found()"
   ]
  },
  {
   "cell_type": "code",
   "execution_count": 21,
   "metadata": {},
   "outputs": [],
   "source": [
    "def find_paths(g, u, v):\n",
    "    \n",
    "    '''\n",
    "    1. Find the shortest path\n",
    "    2. Remove a random edge of the s.p. from the graph\n",
    "    3. Repeat 1-2 until there are no paths\n",
    "    '''\n",
    "    \n",
    "    graph = g.copy()\n",
    "    \n",
    "    paths = []\n",
    "    \n",
    "    while True:\n",
    "        try:\n",
    "            path = shortest_path(graph, u, v)\n",
    "        except BreakException:\n",
    "            break\n",
    "\n",
    "        paths.append(path)\n",
    "        index = random.choice(range(1, len(path)))\n",
    "        graph.remove_edge(path[index-1], path[index])    \n",
    "                \n",
    "    return paths   "
   ]
  },
  {
   "cell_type": "code",
   "execution_count": 72,
   "metadata": {},
   "outputs": [],
   "source": [
    "def simple_min_cut(g, u, v, starter):\n",
    "    \n",
    "    '''\n",
    "    1. Chose one path from u to v\n",
    "    2. Remove all edges of the path\n",
    "    3. Reapet 1 and 2 until there's no path\n",
    "    4. return the number of path found\n",
    "    '''\n",
    "\n",
    "    #print(f'random_path: {starter}')\n",
    "    index=1\n",
    "    \n",
    "    my_g = g.copy()\n",
    "    for j in range(1, len(starter)):\n",
    "        my_g.remove_edge(starter[j-1], starter[j])\n",
    "        #print(f'{index} removed: {starter[j-1]}, {starter[j]}')\n",
    "\n",
    "    while True:\n",
    "        try:\n",
    "            nodes_list = shortest_path(my_g, u, v)\n",
    "            #print('----')\n",
    "        except BreakException:\n",
    "            #print(f'Another path not found! MinCut: {index}')\n",
    "            break\n",
    "\n",
    "        index+=1\n",
    "        for j in range(1, len(nodes_list)):\n",
    "            my_g.remove_edge(nodes_list[j-1], nodes_list[j])\n",
    "            #print(f'{index} removed: {nodes_list[j-1]}, {nodes_list[j]}')\n",
    "\n",
    "    return index"
   ]
  },
  {
   "cell_type": "code",
   "execution_count": 24,
   "metadata": {},
   "outputs": [],
   "source": [
    "def augmented_min_cut(g, u, v):\n",
    "    \n",
    "    '''\n",
    "    1) if u and v are the same node -> return 'same node'\n",
    "    2) if deg of u or v is 1 or 0 -> return 1 or 0\n",
    "    3) paths = call find_paths to calculate different paths\n",
    "    4) if paths have just one path -> return 1\n",
    "    5) use simple_min_cut for each path in paths\n",
    "    6) return the max of the min cuts\n",
    "    '''\n",
    "\n",
    "    if u == v:\n",
    "        return 'Same node'\n",
    "    \n",
    "    deg_u = g.degree(u)\n",
    "    deg_v = g.degree(v)\n",
    "    \n",
    "    if deg_u == 1 or deg_v == 1:\n",
    "        return 1\n",
    "    \n",
    "    if deg_u == 0 or deg_v == 0:\n",
    "        return 0\n",
    "\n",
    "    paths = find_paths(g, u, v)\n",
    "    print('Starter Paths: ', paths)\n",
    "    lenght = len(paths)\n",
    "    if lenght == 1:\n",
    "        return 1\n",
    "    results = []\n",
    "    \n",
    "    for i in range(lenght):\n",
    "        index = simple_min_cut(g, u, v, paths[i]) \n",
    "        results.append(index)\n",
    "    \n",
    "    print('All min-cut: ', results)\n",
    "    return max(results)"
   ]
  },
  {
   "cell_type": "markdown",
   "metadata": {},
   "source": [
    "The following solution is based on the Max-Flow Min-Cut method.\n",
    "\n",
    "### Simple Min-Cut\n",
    "    1. Chose one path from u to v\n",
    "    2. Remove all edges of the path\n",
    "    3. Reapet 1 and 2 until there's no path\n",
    "    4. return the number of path found\n",
    "### Augmented Simple Min-Cut\n",
    "    1. if u and v are the same node -> return 'same node'\n",
    "    2. if deg of u or v is 1 or 0 -> return 1 or 0\n",
    "    3. paths = call find_paths to calculate different paths\n",
    "    4. if paths have just one path -> return 1\n",
    "    5. use simple_min_cut for each path in paths\n",
    "    6. return the max of the min cuts\n",
    "### Find Paths\n",
    "    1. Find the shortest path\n",
    "    2. Remove a random edge of the s.p. from the graph\n",
    "    3. Repeat 1-2 until there are no paths\n",
    "    \n",
    "#### Observations:\n",
    "    1. For this case the simple_min_cut has the best trade-off Speed-Accuracy.\n",
    "    2. The Augmented Min-Cut is more accurate.\n",
    "    3. Let m the Min-Cut, u and v two nodes of the Graph G, we have:\n",
    "$$m \\in [0, max(deg(u), deg(v))]$$"
   ]
  },
  {
   "cell_type": "code",
   "execution_count": 26,
   "metadata": {},
   "outputs": [],
   "source": [
    "subgraph = H.copy()"
   ]
  },
  {
   "cell_type": "markdown",
   "metadata": {},
   "source": [
    "#### Random Choice"
   ]
  },
  {
   "cell_type": "code",
   "execution_count": 27,
   "metadata": {},
   "outputs": [],
   "source": [
    "def find_two_random_nodes(g):\n",
    "    while True:\n",
    "        u = random.choice(list(g.nodes()))\n",
    "        v = random.choice(list(g.nodes()))\n",
    "        try:\n",
    "            sp = shortest_path(g, u, v)\n",
    "            min_cut = simple_min_cut(g, u, v, sp)\n",
    "            return u,v\n",
    "        except:\n",
    "            continue"
   ]
  },
  {
   "cell_type": "code",
   "execution_count": 34,
   "metadata": {},
   "outputs": [
    {
     "data": {
      "text/plain": [
       "(1165146, 1165415)"
      ]
     },
     "execution_count": 34,
     "metadata": {},
     "output_type": "execute_result"
    }
   ],
   "source": [
    "u,v = find_two_random_nodes(subgraph)\n",
    "u,v"
   ]
  },
  {
   "cell_type": "code",
   "execution_count": 35,
   "metadata": {},
   "outputs": [
    {
     "name": "stdout",
     "output_type": "stream",
     "text": [
      "Wall time: 9.97 ms\n"
     ]
    },
    {
     "data": {
      "text/plain": [
       "2"
      ]
     },
     "execution_count": 35,
     "metadata": {},
     "output_type": "execute_result"
    }
   ],
   "source": [
    "%%time\n",
    "sp = shortest_path(subgraph, u, v)\n",
    "simple_min_cut(subgraph, u, v, sp)"
   ]
  },
  {
   "cell_type": "code",
   "execution_count": 50,
   "metadata": {},
   "outputs": [
    {
     "name": "stdout",
     "output_type": "stream",
     "text": [
      "Starter Paths:  [[1165146, 1061503, 1165415], [1165146, 1061503, 1163674, 1163615, 1165415]]\n",
      "All min-cut:  [2, 2]\n",
      "Wall time: 35.9 ms\n"
     ]
    },
    {
     "data": {
      "text/plain": [
       "2"
      ]
     },
     "execution_count": 50,
     "metadata": {},
     "output_type": "execute_result"
    }
   ],
   "source": [
    "%%time\n",
    "augmented_min_cut(subgraph, u, v)"
   ]
  },
  {
   "cell_type": "code",
   "execution_count": 46,
   "metadata": {},
   "outputs": [
    {
     "name": "stdout",
     "output_type": "stream",
     "text": [
      "Starter Paths:  [[1165146, 1061503, 1165415], [1165146, 1163691, 1061592, 1165429, 1061503, 1165415], [1165146, 1163691, 1165652, 1165448, 1163674, 1061503, 1165415], [1165146, 1163691, 1165652, 1165448, 1165227, 1061503, 1165415], [1165146, 1163691, 402241, 1058080, 1163811, 1163674, 1163615, 1165415], [1165146, 1163691, 1165652, 1165448, 1165227, 1061503, 1165374, 1163907, 1163615, 1165415], [1165146, 1163691, 402241, 1163925, 1165166, 1165321, 1170178, 1163907, 1163615, 1165415], [1165146, 1165286, 1161081, 1165344, 1165303, 1165662, 1065580, 1163761, 1163615, 1165415], [1165146, 1165286, 1161081, 1165344, 1165303, 1165662, 1165374, 1163907, 1163615, 1165415], [1165146, 1165286, 1161081, 1165344, 1165303, 1165324, 1165217, 1163907, 1163615, 1165415], [1165146, 1165286, 1161081, 1165344, 1163736, 1061244, 1061568, 1163907, 1163615, 1165415], [1165146, 1165286, 1165726, 1163688, 1163667, 1165321, 1170178, 1163907, 1163615, 1165415], [1165146, 1163691, 1165652, 1165342, 1163929, 1059640, 1058420, 1165528, 1163761, 1163615, 1165415], [1165146, 1165286, 1165726, 1163688, 1165737, 1061503, 1165742, 1061773, 1061568, 1163907, 1163615, 1165415], [1165146, 1163691, 402241, 1058080, 1163811, 1163674, 1165333, 1165155, 1061807, 1061364, 1061679, 1161865, 1163615, 1165415], [1165146, 1165286, 1165726, 1163688, 1165737, 1061503, 1165203, 1165155, 1061807, 1061364, 1061679, 1161865, 1163615, 1165415], [1165146, 1163691, 1165652, 1165342, 1163842, 1049362, 1165737, 1061503, 1165203, 1165155, 1061807, 1061364, 1061679, 1161865, 1163615, 1165415], [1165146, 1163691, 1165652, 1165342, 1163842, 1049362, 1165737, 1061503, 1165203, 1165155, 1061807, 501388, 1062489, 1060943, 1061763, 1502404, 1163761, 1163615, 1165415]]\n",
      "All min-cut:  [2, 2, 2, 2, 2, 2, 2, 2, 2, 2, 2, 2, 2, 2, 2, 2, 2, 2]\n",
      "Wall time: 177 ms\n"
     ]
    },
    {
     "data": {
      "text/plain": [
       "2"
      ]
     },
     "execution_count": 46,
     "metadata": {},
     "output_type": "execute_result"
    }
   ],
   "source": [
    "%%time\n",
    "augmented_min_cut(subgraph, u, v)"
   ]
  },
  {
   "cell_type": "code",
   "execution_count": 37,
   "metadata": {},
   "outputs": [
    {
     "name": "stdout",
     "output_type": "stream",
     "text": [
      "Wall time: 25.9 ms\n"
     ]
    },
    {
     "data": {
      "text/plain": [
       "2"
      ]
     },
     "execution_count": 37,
     "metadata": {},
     "output_type": "execute_result"
    }
   ],
   "source": [
    "%%time\n",
    "cut_value = nx.minimum_cut(subgraph, u, v)[0]\n",
    "cut_value"
   ]
  },
  {
   "cell_type": "markdown",
   "metadata": {},
   "source": [
    "#### Exemple 1"
   ]
  },
  {
   "cell_type": "code",
   "execution_count": 51,
   "metadata": {},
   "outputs": [],
   "source": [
    "u=1061503\n",
    "v=1165662"
   ]
  },
  {
   "cell_type": "code",
   "execution_count": 52,
   "metadata": {},
   "outputs": [
    {
     "name": "stdout",
     "output_type": "stream",
     "text": [
      "Wall time: 11 ms\n"
     ]
    },
    {
     "data": {
      "text/plain": [
       "3"
      ]
     },
     "execution_count": 52,
     "metadata": {},
     "output_type": "execute_result"
    }
   ],
   "source": [
    "%%time\n",
    "sp = shortest_path(subgraph, u, v)\n",
    "simple_min_cut(subgraph, u, v, sp)"
   ]
  },
  {
   "cell_type": "code",
   "execution_count": 55,
   "metadata": {},
   "outputs": [
    {
     "name": "stdout",
     "output_type": "stream",
     "text": [
      "Starter Paths:  [[1061503, 1165303, 1165662], [1061503, 1165374, 1165662], [1061503, 1165374, 1165324, 1165303, 1165662], [1061503, 1163674, 1163615, 1163761, 1065580, 1165662]]\n",
      "All min-cut:  [3, 3, 3, 3]\n",
      "Wall time: 50.9 ms\n"
     ]
    },
    {
     "data": {
      "text/plain": [
       "3"
      ]
     },
     "execution_count": 55,
     "metadata": {},
     "output_type": "execute_result"
    }
   ],
   "source": [
    "%%time\n",
    "augmented_min_cut(subgraph, u, v)"
   ]
  },
  {
   "cell_type": "code",
   "execution_count": 56,
   "metadata": {},
   "outputs": [
    {
     "name": "stdout",
     "output_type": "stream",
     "text": [
      "Wall time: 61.8 ms\n"
     ]
    },
    {
     "data": {
      "text/plain": [
       "3"
      ]
     },
     "execution_count": 56,
     "metadata": {},
     "output_type": "execute_result"
    }
   ],
   "source": [
    "%%time\n",
    "cut_value = nx.minimum_cut(subgraph, u, v)[0]\n",
    "cut_value"
   ]
  },
  {
   "cell_type": "markdown",
   "metadata": {},
   "source": [
    "### Visualization of find_path\n",
    "nodes:\n",
    "\n",
    "    u = 1061503\n",
    "    v = 1165662"
   ]
  },
  {
   "cell_type": "code",
   "execution_count": 455,
   "metadata": {},
   "outputs": [],
   "source": [
    "a = find_paths(subgraph, u, v)"
   ]
  },
  {
   "cell_type": "code",
   "execution_count": 457,
   "metadata": {},
   "outputs": [],
   "source": [
    "b = []\n",
    "for i in a:\n",
    "    for j in i:\n",
    "        b.append(j)\n",
    "b = set(b)"
   ]
  },
  {
   "cell_type": "code",
   "execution_count": 458,
   "metadata": {},
   "outputs": [],
   "source": [
    "reduced_graph = subgraph.copy()\n",
    "for i in list(subgraph.nodes):\n",
    "    if i in b:\n",
    "        pass\n",
    "    else:\n",
    "        reduced_graph.remove_node(i)"
   ]
  },
  {
   "cell_type": "code",
   "execution_count": 459,
   "metadata": {},
   "outputs": [],
   "source": [
    "node_sizes = [20*len(reduced_graph.edges(n)) for n in reduced_graph.nodes()]\n",
    "\n",
    "color_map = []\n",
    "for node in reduced_graph:\n",
    "    if node == u or node == v:\n",
    "        color_map.append('red')\n",
    "    else: \n",
    "        color_map.append('green')"
   ]
  },
  {
   "cell_type": "code",
   "execution_count": 460,
   "metadata": {},
   "outputs": [
    {
     "data": {
      "image/png": "[encoded data removed]",
      "text/plain": [
       "<Figure size 864x864 with 1 Axes>"
      ]
     },
     "metadata": {},
     "output_type": "display_data"
    }
   ],
   "source": [
    "plt.figure(1, figsize=(12,12))\n",
    "nx.draw_kamada_kawai(reduced_graph, node_size=(node_sizes), node_color=color_map, with_labels=False, edge_color='gray') \n",
    "#--> verticalalignment='bottom', font_size = 10\n",
    "plt.show()"
   ]
  },
  {
   "cell_type": "markdown",
   "metadata": {},
   "source": [
    "## Why Augmented Min Cut"
   ]
  },
  {
   "cell_type": "code",
   "execution_count": 57,
   "metadata": {},
   "outputs": [],
   "source": [
    "my_g = nx.Graph()"
   ]
  },
  {
   "cell_type": "code",
   "execution_count": 58,
   "metadata": {},
   "outputs": [],
   "source": [
    "my_g.add_edge(1, 2)\n",
    "my_g.add_edge(2, 3)\n",
    "my_g.add_edge(3, 4)\n",
    "my_g.add_edge(2, 5)\n",
    "my_g.add_edge(5, 6)\n",
    "my_g.add_edge(6, 7)\n",
    "my_g.add_edge(7, 4)\n",
    "my_g.add_edge(4, 3)\n",
    "my_g.add_edge(1, 8)\n",
    "my_g.add_edge(8, 9)\n",
    "my_g.add_edge(9, 10)\n",
    "my_g.add_edge(10, 11)\n",
    "my_g.add_edge(11, 3)"
   ]
  },
  {
   "cell_type": "code",
   "execution_count": 59,
   "metadata": {},
   "outputs": [],
   "source": [
    "my_g = my_g.to_undirected()"
   ]
  },
  {
   "cell_type": "code",
   "execution_count": 70,
   "metadata": {},
   "outputs": [],
   "source": [
    "my_color_map = []\n",
    "for node in my_g:\n",
    "    if node == 1 or node == 4:\n",
    "        my_color_map.append('yellow')\n",
    "    else: \n",
    "        my_color_map.append('orange')"
   ]
  },
  {
   "cell_type": "code",
   "execution_count": 71,
   "metadata": {},
   "outputs": [
    {
     "data": {
      "image/png": "[encoded data removed]",
      "text/plain": [
       "<Figure size 432x288 with 1 Axes>"
      ]
     },
     "metadata": {},
     "output_type": "display_data"
    }
   ],
   "source": [
    "nx.draw(my_g, node_size=510, node_color=my_color_map, with_labels=True, verticalalignment='center', font_size = 15, edge_color='gray')"
   ]
  },
  {
   "cell_type": "code",
   "execution_count": 135,
   "metadata": {},
   "outputs": [
    {
     "name": "stdout",
     "output_type": "stream",
     "text": [
      "Wall time: 0 ns\n"
     ]
    },
    {
     "data": {
      "text/plain": [
       "1"
      ]
     },
     "execution_count": 135,
     "metadata": {},
     "output_type": "execute_result"
    }
   ],
   "source": [
    "%%time\n",
    "sp_e = shortest_path(my_g, 1, 4)\n",
    "simple_min_cut(my_g, 1, 4, sp_e)"
   ]
  },
  {
   "cell_type": "code",
   "execution_count": 136,
   "metadata": {},
   "outputs": [
    {
     "name": "stdout",
     "output_type": "stream",
     "text": [
      "[[1, 2, 3, 4], [1, 2, 5, 6, 7, 4], [1, 8, 9, 10, 11, 3, 4]]\n",
      "[1, 2, 2]\n",
      "Wall time: 0 ns\n"
     ]
    },
    {
     "data": {
      "text/plain": [
       "2"
      ]
     },
     "execution_count": 136,
     "metadata": {},
     "output_type": "execute_result"
    }
   ],
   "source": [
    "%%time\n",
    "augmented_min_cut(my_g, 1, 4)"
   ]
  },
  {
   "cell_type": "markdown",
   "metadata": {},
   "source": [
    "This was an example of how the \"augmented simple min cut\" helps us to find the correct answer."
   ]
  },
  {
   "cell_type": "code",
   "execution_count": null,
   "metadata": {},
   "outputs": [],
   "source": []
  }
 ],
 "metadata": {
  "kernelspec": {
   "display_name": "Python 3",
   "language": "python",
   "name": "python3"
  },
  "language_info": {
   "codemirror_mode": {
    "name": "ipython",
    "version": 3
   },
   "file_extension": ".py",
   "mimetype": "text/x-python",
   "name": "python",
   "nbconvert_exporter": "python",
   "pygments_lexer": "ipython3",
   "version": "3.7.6"
  }
 },
 "nbformat": 4,
 "nbformat_minor": 4
}
