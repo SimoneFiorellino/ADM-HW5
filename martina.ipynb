{
 "cells": [
  {
   "cell_type": "code",
   "execution_count": 1,
   "metadata": {},
   "outputs": [],
   "source": [
    "import pandas as pd\n",
    "from matplotlib.pyplot import figure\n",
    "import matplotlib.pyplot as plt\n",
    "from random import randint\n",
    "from collections import Counter \n",
    "import collections\n",
    "import statistics\n",
    "import time\n",
    "from itertools import chain \n",
    "import random\n",
    "import operator\n",
    "import copy"
   ]
  },
  {
   "cell_type": "code",
   "execution_count": 2,
   "metadata": {},
   "outputs": [],
   "source": [
    "random.seed(42) "
   ]
  },
  {
   "cell_type": "markdown",
   "metadata": {},
   "source": [
    "### Importing and exploring data "
   ]
  },
  {
   "cell_type": "code",
   "execution_count": 3,
   "metadata": {},
   "outputs": [
    {
     "data": {
      "text/html": [
       "<div>\n",
       "<style scoped>\n",
       "    .dataframe tbody tr th:only-of-type {\n",
       "        vertical-align: middle;\n",
       "    }\n",
       "\n",
       "    .dataframe tbody tr th {\n",
       "        vertical-align: top;\n",
       "    }\n",
       "\n",
       "    .dataframe thead th {\n",
       "        text-align: right;\n",
       "    }\n",
       "</style>\n",
       "<table border=\"1\" class=\"dataframe\">\n",
       "  <thead>\n",
       "    <tr style=\"text-align: right;\">\n",
       "      <th></th>\n",
       "      <th>Unnamed: 0</th>\n",
       "      <th>0</th>\n",
       "      <th>1</th>\n",
       "    </tr>\n",
       "  </thead>\n",
       "  <tbody>\n",
       "    <tr>\n",
       "      <th>0</th>\n",
       "      <td>796</td>\n",
       "      <td>95</td>\n",
       "      <td>1185516</td>\n",
       "    </tr>\n",
       "    <tr>\n",
       "      <th>1</th>\n",
       "      <td>909</td>\n",
       "      <td>108</td>\n",
       "      <td>1059989</td>\n",
       "    </tr>\n",
       "    <tr>\n",
       "      <th>2</th>\n",
       "      <td>910</td>\n",
       "      <td>108</td>\n",
       "      <td>1062426</td>\n",
       "    </tr>\n",
       "    <tr>\n",
       "      <th>3</th>\n",
       "      <td>911</td>\n",
       "      <td>108</td>\n",
       "      <td>1161925</td>\n",
       "    </tr>\n",
       "    <tr>\n",
       "      <th>4</th>\n",
       "      <td>1141</td>\n",
       "      <td>134</td>\n",
       "      <td>541222</td>\n",
       "    </tr>\n",
       "  </tbody>\n",
       "</table>\n",
       "</div>"
      ],
      "text/plain": [
       "   Unnamed: 0    0        1\n",
       "0         796   95  1185516\n",
       "1         909  108  1059989\n",
       "2         910  108  1062426\n",
       "3         911  108  1161925\n",
       "4        1141  134   541222"
      ]
     },
     "execution_count": 3,
     "metadata": {},
     "output_type": "execute_result"
    }
   ],
   "source": [
    "dataset = pd.read_csv('wikigraph_reduced.csv', sep='\\t', \n",
    "                      delimiter=None, header='infer',\n",
    "                      names=None, index_col=None, \n",
    "                      usecols=None, \n",
    "                      encoding = \"ISO-8859-1\")\n",
    "dataset.head()"
   ]
  },
  {
   "cell_type": "code",
   "execution_count": 4,
   "metadata": {},
   "outputs": [],
   "source": [
    "dataset.columns=['Index','Source','Target']"
   ]
  },
  {
   "cell_type": "code",
   "execution_count": 5,
   "metadata": {},
   "outputs": [
    {
     "name": "stdout",
     "output_type": "stream",
     "text": [
      "483094\n",
      "483094\n"
     ]
    }
   ],
   "source": [
    "# check if index columns has unique values\n",
    "print(len(dataset.Index))\n",
    "print(len(set(dataset.Index)))"
   ]
  },
  {
   "cell_type": "code",
   "execution_count": 6,
   "metadata": {
    "scrolled": true
   },
   "outputs": [
    {
     "data": {
      "text/html": [
       "<div>\n",
       "<style scoped>\n",
       "    .dataframe tbody tr th:only-of-type {\n",
       "        vertical-align: middle;\n",
       "    }\n",
       "\n",
       "    .dataframe tbody tr th {\n",
       "        vertical-align: top;\n",
       "    }\n",
       "\n",
       "    .dataframe thead th {\n",
       "        text-align: right;\n",
       "    }\n",
       "</style>\n",
       "<table border=\"1\" class=\"dataframe\">\n",
       "  <thead>\n",
       "    <tr style=\"text-align: right;\">\n",
       "      <th></th>\n",
       "      <th>Source</th>\n",
       "      <th>Target</th>\n",
       "    </tr>\n",
       "    <tr>\n",
       "      <th>Index</th>\n",
       "      <th></th>\n",
       "      <th></th>\n",
       "    </tr>\n",
       "  </thead>\n",
       "  <tbody>\n",
       "    <tr>\n",
       "      <th>796</th>\n",
       "      <td>95</td>\n",
       "      <td>1185516</td>\n",
       "    </tr>\n",
       "    <tr>\n",
       "      <th>909</th>\n",
       "      <td>108</td>\n",
       "      <td>1059989</td>\n",
       "    </tr>\n",
       "    <tr>\n",
       "      <th>910</th>\n",
       "      <td>108</td>\n",
       "      <td>1062426</td>\n",
       "    </tr>\n",
       "    <tr>\n",
       "      <th>911</th>\n",
       "      <td>108</td>\n",
       "      <td>1161925</td>\n",
       "    </tr>\n",
       "    <tr>\n",
       "      <th>1141</th>\n",
       "      <td>134</td>\n",
       "      <td>541222</td>\n",
       "    </tr>\n",
       "  </tbody>\n",
       "</table>\n",
       "</div>"
      ],
      "text/plain": [
       "       Source   Target\n",
       "Index                 \n",
       "796        95  1185516\n",
       "909       108  1059989\n",
       "910       108  1062426\n",
       "911       108  1161925\n",
       "1141      134   541222"
      ]
     },
     "execution_count": 6,
     "metadata": {},
     "output_type": "execute_result"
    }
   ],
   "source": [
    "dataset.set_index('Index' , inplace = True)\n",
    "dataset.head()"
   ]
  },
  {
   "cell_type": "markdown",
   "metadata": {},
   "source": [
    "#### Associate single category to each node"
   ]
  },
  {
   "cell_type": "code",
   "execution_count": 7,
   "metadata": {},
   "outputs": [],
   "source": [
    "# all nodes in and out\n",
    "unique_nodes = set(set(dataset.Source).union(set(dataset.Target)))\n",
    "n_nodes = len(unique_nodes)\n",
    "n_edges = len(dataset)"
   ]
  },
  {
   "cell_type": "code",
   "execution_count": 8,
   "metadata": {},
   "outputs": [],
   "source": [
    "category_file = 'wiki-topcats-categories.txt'"
   ]
  },
  {
   "cell_type": "markdown",
   "metadata": {},
   "source": [
    "Non filtered categories"
   ]
  },
  {
   "cell_type": "code",
   "execution_count": 9,
   "metadata": {},
   "outputs": [],
   "source": [
    "categories_all = {v: [] for v in unique_nodes}\n",
    "no_category = []\n",
    "\n",
    "with open(category_file) as file:\n",
    "    for i in range(17364):\n",
    "        line = file.readline()\n",
    "        category = line.split(';')[0].split(':')[-1]\n",
    "        nodes = line.split(';')[1].split(' ')[1:-2]\n",
    "        \n",
    "        for node in nodes:\n",
    "            try:\n",
    "                categories_all[int(node)].append(category)\n",
    "            except:\n",
    "                no_category.append(int(node))"
   ]
  },
  {
   "cell_type": "markdown",
   "metadata": {},
   "source": [
    "Filtering categories"
   ]
  },
  {
   "cell_type": "code",
   "execution_count": 10,
   "metadata": {},
   "outputs": [],
   "source": [
    "nodes_category = {}\n",
    "for n in categories_all.keys():\n",
    "    try:\n",
    "        rand_category = random.choice(categories_all[n])\n",
    "        nodes_category[n] = rand_category\n",
    "    except:\n",
    "        nodes_category[n] = None"
   ]
  },
  {
   "cell_type": "code",
   "execution_count": 11,
   "metadata": {},
   "outputs": [],
   "source": [
    "category_nodes = {category:[] for category in set(nodes_category.values())}\n",
    "for node in nodes_category.keys():\n",
    "    try:\n",
    "        category_nodes[nodes_category[node]].append(node)\n",
    "    except:\n",
    "        continue"
   ]
  },
  {
   "cell_type": "markdown",
   "metadata": {},
   "source": [
    "#### Create graph"
   ]
  },
  {
   "cell_type": "code",
   "execution_count": 12,
   "metadata": {},
   "outputs": [],
   "source": [
    "in_links = {v: [] for v in set(dataset.Source)}\n",
    "out_links = {v: [] for v in set(dataset.Target)}\n",
    "\n",
    "for row in dataset.iterrows():\n",
    "    source = row[1][0]\n",
    "    target = row[1][1]\n",
    "    in_links[source].append(target)\n",
    "    out_links[target].append(source)"
   ]
  },
  {
   "cell_type": "code",
   "execution_count": 13,
   "metadata": {},
   "outputs": [],
   "source": [
    "n_art_outlink = len(out_links)\n",
    "n_art_inlink = len(in_links)"
   ]
  },
  {
   "cell_type": "markdown",
   "metadata": {},
   "source": [
    "#### Check if directed"
   ]
  },
  {
   "cell_type": "code",
   "execution_count": 14,
   "metadata": {},
   "outputs": [
    {
     "name": "stdout",
     "output_type": "stream",
     "text": [
      "Graph is directed\n"
     ]
    }
   ],
   "source": [
    "directed = False\n",
    "for node in in_links:\n",
    "    if len(set(in_links[node]).intersection(set(out_links[node]))) != 0:\n",
    "        directed = True\n",
    "        break\n",
    "if directed:\n",
    "    print('Graph is directed')\n",
    "else:\n",
    "    print('Graph is undirected')"
   ]
  },
  {
   "cell_type": "code",
   "execution_count": 15,
   "metadata": {},
   "outputs": [],
   "source": [
    "# undirected version of the graph\n",
    "links = in_links.copy()\n",
    "links.update(out_links)"
   ]
  },
  {
   "cell_type": "markdown",
   "metadata": {},
   "source": [
    "#### Density"
   ]
  },
  {
   "cell_type": "code",
   "execution_count": 16,
   "metadata": {},
   "outputs": [
    {
     "name": "stdout",
     "output_type": "stream",
     "text": [
      "Graph density is: 4.9951571365597335e-05\n",
      "Graph hyperliks avarage is: 4.912337431235573\n"
     ]
    }
   ],
   "source": [
    "density = (n_edges/(n_nodes*(n_nodes-1)))\n",
    "avarage = n_edges/n_nodes\n",
    "\n",
    "print('Graph density is:',density)\n",
    "print('Graph hyperliks avarage is:',avarage)"
   ]
  },
  {
   "cell_type": "markdown",
   "metadata": {},
   "source": [
    "#### Visualize the nodes' degree distribution"
   ]
  },
  {
   "cell_type": "code",
   "execution_count": 17,
   "metadata": {},
   "outputs": [],
   "source": [
    "my_len = [] \n",
    "for node in links.keys():\n",
    "    my_len.append(len(links[node]))\n",
    "\n",
    "# dictionary with degree\n",
    "node_degree = dict(zip(links.keys(), my_len))\n",
    "d = Counter(node_degree)"
   ]
  },
  {
   "cell_type": "code",
   "execution_count": 18,
   "metadata": {},
   "outputs": [],
   "source": [
    "# degree distribution\n",
    "counter_supp = list()\n",
    "for i in range(1, max(my_len)):\n",
    "    counter_supp.append(my_len.count(i))\n",
    "counter_supp = [c/max(counter_supp) for c in counter_supp]"
   ]
  },
  {
   "cell_type": "code",
   "execution_count": 19,
   "metadata": {},
   "outputs": [],
   "source": [
    "# cumulative degree ditribution\n",
    "counter = [0]\n",
    "for i in range(1, max(my_len)):\n",
    "    counter.append(counter[-1]+my_len.count(i))\n",
    "counter = [c/max(counter) for c in counter]"
   ]
  },
  {
   "cell_type": "code",
   "execution_count": 20,
   "metadata": {},
   "outputs": [
    {
     "data": {
      "image/png": "[encoded data removed]",
      "text/plain": [
       "<Figure size 1368x432 with 1 Axes>"
      ]
     },
     "metadata": {
      "needs_background": "light"
     },
     "output_type": "display_data"
    }
   ],
   "source": [
    "plt.figure(figsize = (19,6))\n",
    "plt.bar(x = list(range(1,len(counter_supp[1:100])+1)),height = counter_supp[1:100],color = 'lightblue',width = 0.3);\n",
    "plt.ylabel('Number of nodes')\n",
    "plt.xlabel('Degree')\n",
    "plt.title('Degree distribution')\n",
    "plt.show()"
   ]
  },
  {
   "cell_type": "code",
   "execution_count": 21,
   "metadata": {},
   "outputs": [
    {
     "data": {
      "image/png": "[encoded data removed]",
      "text/plain": [
       "<Figure size 1368x432 with 1 Axes>"
      ]
     },
     "metadata": {
      "needs_background": "light"
     },
     "output_type": "display_data"
    }
   ],
   "source": [
    "plt.figure(figsize = (19,6))\n",
    "plt.bar(x = list(range(1,len(counter[1:100])+1)),height = counter[1:100],color = 'lightblue',width = 0.3);\n",
    "plt.ylabel('Number of nodes')\n",
    "plt.xlabel('Degree')\n",
    "plt.title('Cumulative degree distribution')\n",
    "plt.show()"
   ]
  },
  {
   "cell_type": "markdown",
   "metadata": {},
   "source": [
    "### In and out degree"
   ]
  },
  {
   "cell_type": "code",
   "execution_count": 16,
   "metadata": {},
   "outputs": [],
   "source": [
    "in_d = [] \n",
    "for node in in_links.keys():\n",
    "    in_d.append(len(in_links[node]))\n",
    "\n",
    "in_degree = dict(zip(in_links.keys(), in_d)) # dictionary with in-degree"
   ]
  },
  {
   "cell_type": "code",
   "execution_count": 17,
   "metadata": {},
   "outputs": [],
   "source": [
    "out_d = [] \n",
    "for node in out_links.keys():\n",
    "    out_d.append(len(out_links[node]))\n",
    "\n",
    "out_degree = dict(zip(out_links.keys(), out_d)) # dictionary with out-degree"
   ]
  },
  {
   "cell_type": "markdown",
   "metadata": {},
   "source": [
    "### Useful Functions"
   ]
  },
  {
   "cell_type": "code",
   "execution_count": 18,
   "metadata": {},
   "outputs": [],
   "source": [
    "def explore(node,limit):\n",
    "   \n",
    "    ''' This function takes as an input one node and a click limit.\n",
    "    Limit can be set to None if we don't want any limit.\n",
    "    The function returns a dictionary where keys are distances and values are all the nodes \n",
    "    which are at distance d (key) from the input node'''\n",
    "    \n",
    "    # initializing variables\n",
    "    distance_tree = {}\n",
    "    explored = set()\n",
    "    clicks = 1 \n",
    "    \n",
    "    # checking if node has at list one outlink\n",
    "    try:\n",
    "        out_nodes = set(out_links[node])\n",
    "    except:\n",
    "        print('No out-link from', node)\n",
    "        return distance_tree\n",
    "    \n",
    "    '''\n",
    "    1. We iterate until the new set of out-nodes to explore is non-empty \n",
    "    2. For each iteration we only consider unexplored nodes\n",
    "    3. If the node is a key in out_links, we add the set of nodes associated to it to the new set of nodes\n",
    "    4. We update all variables and increase distance by one'''\n",
    "\n",
    "    while out_nodes != set(): \n",
    "        \n",
    "        if limit != None:\n",
    "            if clicks > limit+1:        \n",
    "                return distance_tree\n",
    "        \n",
    "        distance_tree[clicks] = out_nodes\n",
    "        new_out_nodes = set() \n",
    "        \n",
    "        for node in out_nodes: \n",
    "            try:\n",
    "                new_out_nodes = new_out_nodes.union(set(out_links[node])) \n",
    "            except:\n",
    "                continue\n",
    "        \n",
    "        explored = explored.union(out_nodes) \n",
    "        out_nodes = new_out_nodes.difference(explored)\n",
    "        clicks += 1 \n",
    "    \n",
    "    return distance_tree"
   ]
  },
  {
   "cell_type": "code",
   "execution_count": 19,
   "metadata": {},
   "outputs": [],
   "source": [
    "def shortest_path (node1,node2):\n",
    "    \n",
    "    ''' This function takes in input two nodes and returns the length of the shortest path.\n",
    "    If node 1 does not have any outlink or if no path is found between node 1 and node 2, None is returned. '''\n",
    "    \n",
    "    # exeptions\n",
    "    if node1 == node2:\n",
    "        return 0, []\n",
    "    \n",
    "    # set of outnodes of node 1\n",
    "    try:\n",
    "        out_nodes = set(out_links[node1]) \n",
    "    except:\n",
    "        print('No out-link from', node1)\n",
    "        return 'Inf', []\n",
    "    \n",
    "    # initializing explored nodes set and minimum distance\n",
    "    explored = set() \n",
    "    clicks = 1\n",
    "    parents =  {node : {1:[node1]} for node in out_nodes}\n",
    "    \n",
    "    ''' ITERATIONS: we iterate until we find node 2. In the case in which we have not found node 2 \n",
    "    but we don't have any new node to explore, we assume the two nodes are disconnected.\n",
    "    \n",
    "    1. We check the new set of out-nodes to explore is non-empty \n",
    "    2. We iterate through unexplored nodes\n",
    "    3. If the node is a key in out_links, we add the set of nodes associated to it to the \n",
    "    new set of nodes in order to proceed with exploration\n",
    "    4. In order to retrieve the actual set of nodes met to get from node1 to node2,\n",
    "    for each explored node we save its parent (or parents) at each iteration and retrace the path\n",
    "    backwards from node2 to node 1.'''\n",
    "   \n",
    "    while node2 not in parents.keys(): \n",
    "        clicks += 1 \n",
    "        \n",
    "        if out_nodes != set(): \n",
    "            new_out_nodes = set() \n",
    "\n",
    "            for node in out_nodes:  \n",
    "                try:\n",
    "                    new_out_nodes = new_out_nodes.union(set(out_links[node]))\n",
    "                    for new_node in out_links[node]:\n",
    "                        if new_node in parents.keys():\n",
    "                            if clicks in parents[new_node]:\n",
    "                                parents[new_node][clicks].append(node)\n",
    "                            else:\n",
    "                                parents[new_node].update({clicks:[node]})\n",
    "                        else:\n",
    "                            parents[new_node] = {clicks:[node]}\n",
    "                except:\n",
    "                    continue\n",
    "\n",
    "            explored = explored.union(out_nodes)\n",
    "            out_nodes = new_out_nodes.difference(explored) \n",
    "    \n",
    "        else: \n",
    "            print('No path found')\n",
    "            return 'Inf', []\n",
    "    \n",
    "    path = [node2]\n",
    "    while path[-1] != node1:\n",
    "        path = get_reversed_path(parents,clicks,node2)\n",
    "    \n",
    "    return clicks, [node2]+path"
   ]
  },
  {
   "cell_type": "code",
   "execution_count": 20,
   "metadata": {},
   "outputs": [],
   "source": [
    "def get_reversed_path(parents, dist, node):\n",
    "    \n",
    "    '''we iterate backwards from node2 to node1 through the parents dictionary until we find node1 \n",
    "    at distance \"clicks\" from node 2. In the case of branched path we explore them randomly untile we \n",
    "    find the one we are interested in.'''\n",
    "    \n",
    "    path = []\n",
    "    for i in reversed(range(1,dist+1)):\n",
    "        parent_list = parents[node][i]\n",
    "        if len(parent_list) > 1:\n",
    "            index = random.randint(0,len(parent_list)-1)\n",
    "            parent = parent_list[index]\n",
    "        else:\n",
    "            parent = parent_list[0]\n",
    "        path.append(parent)\n",
    "        node = parent\n",
    "    \n",
    "    return path"
   ]
  },
  {
   "cell_type": "code",
   "execution_count": 27,
   "metadata": {},
   "outputs": [],
   "source": [
    "node2 = 1161925\n",
    "node3 = 134"
   ]
  },
  {
   "cell_type": "code",
   "execution_count": 28,
   "metadata": {},
   "outputs": [
    {
     "name": "stdout",
     "output_type": "stream",
     "text": [
      "Shortest path between 134 and 1161925 is [1161925, 1056157, 1165599, 1061485, 134] which requires 4 clicks\n"
     ]
    }
   ],
   "source": [
    "sp,path = shortest_path(node3,node2)\n",
    "print('Shortest path between', node3, 'and', node2, 'is', path, 'which requires', sp, 'clicks')"
   ]
  },
  {
   "cell_type": "code",
   "execution_count": 29,
   "metadata": {},
   "outputs": [
    {
     "name": "stdout",
     "output_type": "stream",
     "text": [
      "Exploration tree of node 134 has max distance 15\n"
     ]
    }
   ],
   "source": [
    "tree = explore(node3,None)\n",
    "print('Exploration tree of node', node3, 'has max distance', max(tree.keys()))"
   ]
  },
  {
   "cell_type": "markdown",
   "metadata": {},
   "source": [
    "## RQ2"
   ]
  },
  {
   "cell_type": "code",
   "execution_count": 30,
   "metadata": {},
   "outputs": [],
   "source": [
    "def get_articles(node,n_clicks):\n",
    "    '''This function works as the explore function defined above, but with a different output format.'''\n",
    "    tree = explore(node_id,n_clicks)\n",
    "    articles = []\n",
    "    for d in tree.keys():\n",
    "        articles+=tree[d]\n",
    "    return articles"
   ]
  },
  {
   "cell_type": "code",
   "execution_count": 31,
   "metadata": {},
   "outputs": [
    {
     "name": "stdout",
     "output_type": "stream",
     "text": [
      "Execution time:  0.46255033016204833 minutes\n",
      "Number of articles reached within 4 from node 134 : 44717\n"
     ]
    }
   ],
   "source": [
    "start = time.time()\n",
    "n_clicks = 4\n",
    "node_id = 134\n",
    "articles = get_articles(node_id,n_clicks)\n",
    "print('Execution time: ', (time.time() - start)/60, 'minutes')\n",
    "print('Number of articles reached within', n_clicks, 'from node', node_id,':', len(articles))"
   ]
  },
  {
   "cell_type": "code",
   "execution_count": 32,
   "metadata": {},
   "outputs": [
    {
     "data": {
      "image/png": "[encoded data removed]",
      "text/plain": [
       "<Figure size 1080x432 with 1 Axes>"
      ]
     },
     "metadata": {
      "needs_background": "light"
     },
     "output_type": "display_data"
    }
   ],
   "source": [
    "graph = []\n",
    "for n_clicks in range(7):\n",
    "    graph.append(len(get_articles(node_id,n_clicks)))\n",
    "plt.figure(figsize = (15,6))\n",
    "plt.plot(graph,color = 'lightblue');\n",
    "plt.ylabel('Number of articles reached')\n",
    "plt.xlabel('Number of clicks')\n",
    "plt.title(f'Node {node_id}')\n",
    "plt.show()"
   ]
  },
  {
   "cell_type": "markdown",
   "metadata": {},
   "source": [
    "## RQ3"
   ]
  },
  {
   "cell_type": "code",
   "execution_count": 32,
   "metadata": {},
   "outputs": [],
   "source": [
    "def visit_all(C):\n",
    "    \n",
    "    ''' PRIMARY STEPS :\n",
    "    1. We retrieve the set of nodes in C\n",
    "    2. We find the center and check that it exists (meaning that at list one node has a non zero in-degree)\n",
    "    3. We check that at most one node has outdegree 0'''\n",
    "    \n",
    "    p = category_nodes[C]\n",
    "    max_indeg = 0\n",
    "    out_deg_p = {}\n",
    "    center = ''\n",
    "    \n",
    "    for node in p:\n",
    "        if node in in_degree.keys():    \n",
    "            if in_degree[node] > max_indeg:\n",
    "                    center = node\n",
    "                    max_indeg = in_degree[node]\n",
    "        try:\n",
    "            out_deg_p[node] = out_degree[node]\n",
    "        except:\n",
    "            out_deg_p[node] = 0\n",
    "    \n",
    "    zero_outdeg = list(out_deg_p.values()).count(0)\n",
    "    \n",
    "    if center == '' or zero_outdeg > 1:\n",
    "        print('More than one node has outdegree zero')\n",
    "        return 'Not possible'\n",
    "    else:\n",
    "        p.remove(center)\n",
    "        print('Center is node', center, 'with indegree', max_indeg)\n",
    "    \n",
    "    ''' SECONDARY STEPS :\n",
    "    Now we apply the \"get_next\" function until we either find all nodes or we are stuck for two consecutive\n",
    "    iterations at the same node'''\n",
    "    \n",
    "    start = center\n",
    "    exploration = [center]\n",
    "    to_visit = set(copy.copy(p))\n",
    "    \n",
    "    while len(to_visit) > 1:\n",
    "        tree = explore(start, None)\n",
    "        next_node, path, visited = get_next(start,to_visit,tree,out_deg_p)\n",
    "        if next_node == start or next_node == None:\n",
    "            print('Cannot reach other nodes from', start)\n",
    "            return 'Not possible'\n",
    "        exploration += path\n",
    "        to_visit =  to_visit - visited\n",
    "        start = next_node\n",
    "    \n",
    "    return exploration"
   ]
  },
  {
   "cell_type": "code",
   "execution_count": 28,
   "metadata": {},
   "outputs": [],
   "source": [
    "def get_next(start, p, tree, out_deg_p):\n",
    "        \n",
    "    ''' We want to sort all nodes left to visit by their distance from the starting node, in decreasing order.\n",
    "    The nodes are sorted in this way to be more time efficient, since we avoid to look two times for the same \n",
    "    shortest path.\n",
    "    1. We create a set of nodes that we want to find and generate the exploration tree of our start node.\n",
    "    2. We iterate all the distances in the tree and if we find any of the nodes of interest we save them \n",
    "    in a dictionary.\n",
    "    3. We get the list of nodes nodes to be visited sorted by furthest to the nearest. '''\n",
    "    \n",
    "    p_decreasing = sort_nodes(tree, p)\n",
    "    if p_decreasing ==[]:\n",
    "        print('Nodes', p, 'cannot be reached from node', start)\n",
    "        return None, [], set()\n",
    "    \n",
    "    print('Nodes to visit', len(p_decreasing))\n",
    "        \n",
    "    ''' Now we want to get all shortest paths from start node to any other node left to visit. \n",
    "    1. We have a set of nodes to visit to be iterated in a specific order. We always pick the one which is \n",
    "    further away from the start node (element 0).\n",
    "    2. We save the shortest path to this node in a dictionary, remove the node from the list of nodes to visit \n",
    "    and save the nodes that we have met along the path if they are in the set of nodes to visit.\n",
    "    3. We remove all the other nodes of interest met along the way from the set of nodes to visit. \n",
    "    \n",
    "    notice: we alredy know that these nodes will not have the greatest number of crossed nodes '''\n",
    "    \n",
    "    rel_path, crossed = get_paths(p_decreasing, p, start)\n",
    "    \n",
    "    ''' Among all nodes that are left to visit we pick as \"next\" according to this features:\n",
    "    1. We check the node that maximises the number of crossed nodes. However if the outdegree of this node is \n",
    "    zero we check if we have any othe node to visit, if yes, we discard this node.\n",
    "    2. If two nodes cross the same number of nodes, we pick the one with higher outdegree.\n",
    "    3. If two nodes cross the same number of nodes and have equal outdegree, we pick the closer one'''\n",
    "    \n",
    "    best_node = p_decreasing[0]\n",
    "    max_crossed = len(crossed[best_node])\n",
    "    \n",
    "    for node in crossed.keys():\n",
    "        if len(crossed[node]) > max_crossed:\n",
    "            if out_deg_p[node] == 0:\n",
    "                if p - set(rel_path[node]+[best_node]) == set():\n",
    "                    best_node = node\n",
    "                    max_crossed = len(crossed[node])\n",
    "            else:\n",
    "                best_node = node\n",
    "                max_crossed = len(crossed[node])\n",
    "\n",
    "        elif len(crossed[node]) == max_crossed:          \n",
    "            if out_deg_p[node] > out_deg_p[best_node] : \n",
    "                    best_node = node\n",
    "            elif len(crossed[node]) > len(crossed[best_node]):\n",
    "                best_node = node\n",
    "    \n",
    "    print('Path to', best_node, ':', rel_path[best_node])\n",
    "    \n",
    "    return best_node, rel_path[best_node]+[best_node], set(rel_path[best_node]+[best_node])"
   ]
  },
  {
   "cell_type": "code",
   "execution_count": 21,
   "metadata": {},
   "outputs": [],
   "source": [
    "def sort_nodes(tree, p):\n",
    "    \n",
    "    distances = {}\n",
    "    to_find = set(copy.copy(p))\n",
    "    for d in tree.keys():\n",
    "        visited = set(tree[d]).intersection(to_find)\n",
    "        distances[d] = visited                 \n",
    "    \n",
    "    p_decreasing = collections.OrderedDict(sorted(distances.items()))\n",
    "    p_decreasing = list(chain.from_iterable(list(p_decreasing.values())))\n",
    "        \n",
    "    return p_decreasing"
   ]
  },
  {
   "cell_type": "code",
   "execution_count": 22,
   "metadata": {},
   "outputs": [],
   "source": [
    "def get_paths(p_decreasing, p, start):\n",
    "    \n",
    "    rel_path = {node:[] for node in p}\n",
    "    crossed = {node:[] for node in p}\n",
    "    to_visit = copy.copy(p_decreasing)\n",
    "    \n",
    "    while len(to_visit) > 1:\n",
    "        node = to_visit[0]\n",
    "        clicks,path = shortest_path(start, node)\n",
    "        rel_path[node] = path\n",
    "        crossed_list = set(path).intersection(set(to_visit)) \n",
    "        crossed[node] = crossed_list \n",
    "        to_visit.remove(node)\n",
    "        for node_a in crossed_list:\n",
    "            if node_a in to_visit:\n",
    "                to_visit.remove(node_a)\n",
    "                \n",
    "    return rel_path, crossed"
   ]
  },
  {
   "cell_type": "code",
   "execution_count": 36,
   "metadata": {},
   "outputs": [
    {
     "name": "stdout",
     "output_type": "stream",
     "text": [
      "Center is node 1064547 with indegree 19\n",
      "Nodes to visit [1060182, 1055082, 1064493, 1064789, 1067418, 1067355]\n",
      "Next node to visit is: 1064789\n",
      "Path to 1064789 : [1064789, 1060845, 1062293, 1065028, 1064547]\n",
      "Nodes to visit [1067355, 1055082, 1064493, 1067418, 1060182]\n",
      "Next node to visit is: 1067418\n",
      "Path to 1067418 : [1067418, 1163469, 1163766, 1152541, 1163456, 1064789]\n",
      "Nodes to visit [1055082, 1064493, 1060182, 1067355]\n",
      "Next node to visit is: 1060182\n",
      "Path to 1060182 : [1060182, 1060564, 1064244, 1062841, 1067418]\n",
      "Nodes to visit [1055082, 1067355, 1064493]\n",
      "Next node to visit is: 1055082\n",
      "Path to 1055082 : [1055082, 1061070, 1059528, 1164569, 1060182]\n",
      "Nodes to visit [1067355, 1064493]\n",
      "Next node to visit is: 1067355\n",
      "Path to 1067355 : [1067355, 1073924, 1163692, 1163623, 1055082]\n",
      "Nodes to visit [1064493]\n",
      "Next node to visit is: 1064493\n",
      "Path to 1064493 : []\n",
      "Running time: 171.55661869049072\n",
      "33\n"
     ]
    }
   ],
   "source": [
    "start = time.time()\n",
    "res1 = visit_all('American_fantasy-comedy_films')\n",
    "print('Running time:', time.time() - start)\n",
    "print(len(res1))"
   ]
  },
  {
   "cell_type": "code",
   "execution_count": 37,
   "metadata": {},
   "outputs": [
    {
     "name": "stdout",
     "output_type": "stream",
     "text": [
      "Center is node 573108 with indegree 164\n",
      "Nodes to visit [1163624, 1163472, 1502923, 1224657, 79498]\n",
      "Next node to visit is: 1163472\n",
      "Path to 1163472 : [1163472, 1058886, 1163614, 1110165, 573108]\n",
      "Nodes to visit [1163624, 1224657, 1502923, 79498]\n",
      "Next node to visit is: 1163624\n",
      "Path to 1163624 : [1163624, 1165201, 121334, 1163472]\n",
      "Nodes to visit [1224657, 1502923, 79498]\n",
      "Next node to visit is: 1224657\n",
      "Path to 1224657 : [1224657, 1065732, 1062896, 1163345, 1163624]\n",
      "Nodes to visit [79498, 1502923]\n",
      "Next node to visit is: 79498\n",
      "Path to 79498 : [79498, 81372, 82755, 81866, 1174958, 1062924, 1224657]\n",
      "Running time: 164.7982428073883\n",
      "26\n"
     ]
    }
   ],
   "source": [
    "start = time.time()\n",
    "res2 = visit_all('Deaths_from_diabetes')\n",
    "print('Running time:', time.time() - start)\n",
    "print(len(res2))"
   ]
  },
  {
   "cell_type": "code",
   "execution_count": 38,
   "metadata": {},
   "outputs": [
    {
     "name": "stdout",
     "output_type": "stream",
     "text": [
      "Center is node 82484 with indegree 9\n",
      "Nodes to visit [84115, 81108, 83662, 84000, 82809, 82891, 84621, 76919]\n",
      "Next node to visit is: 82891\n",
      "Path to 82891 : [82891, 81875, 82350, 81942, 83114, 82484]\n",
      "Nodes to visit [82809, 84115, 84000, 81108, 83662, 84621, 76919]\n",
      "Next node to visit is: 82809\n",
      "Path to 82809 : [82809, 81856, 82891]\n",
      "Nodes to visit [84115, 81108, 84000, 84621, 83662, 76919]\n",
      "Next node to visit is: 84000\n",
      "Path to 84000 : [84000, 81152, 82762, 80244, 82809]\n",
      "Nodes to visit [84115, 81108, 83662, 84621, 76919]\n",
      "Next node to visit is: 81108\n",
      "Path to 81108 : [81108, 81858, 81774, 84000]\n",
      "Nodes to visit [84115, 83662, 84621, 76919]\n",
      "Next node to visit is: 84115\n",
      "Path to 84115 : [84115, 81856, 81858, 81108]\n",
      "Nodes to visit [84621, 83662, 76919]\n",
      "Next node to visit is: 83662\n",
      "Path to 83662 : [83662, 82779, 81934, 82981, 82551, 83759, 84115]\n",
      "Nodes to visit [84621, 76919]\n",
      "Next node to visit is: 84621\n",
      "Path to 84621 : [84621, 80827, 83306, 81373, 83662]\n",
      "Nodes {76919, 92583} cannot be reached from node 84621\n",
      "Cannot reach other nodes from 84621\n",
      "Running time: -181.2430272102356\n",
      "12\n"
     ]
    }
   ],
   "source": [
    "start = time.time()\n",
    "res3 = visit_all('Republic_of_Ireland_international_footballers')\n",
    "print('Running time:', start - time.time())\n",
    "print(len(res3))"
   ]
  },
  {
   "cell_type": "code",
   "execution_count": 39,
   "metadata": {},
   "outputs": [
    {
     "name": "stdout",
     "output_type": "stream",
     "text": [
      "Center is node 1063044 with indegree 26\n",
      "Nodes to visit [1060976, 1065124, 1064839, 1063181, 1060110, 1067505, 1063220, 1083965, 1056128, 1227201, 1015488, 1065765, 135047, 48977, 1062975]\n",
      "Next node to visit is: 1063220\n",
      "Path to 1063220 : [1063220, 1061501, 1062053, 1063044]\n",
      "Nodes to visit [1227201, 1060976, 1065124, 1060110, 1056128, 1065765, 135047, 1064839, 1063181, 1067505, 48977, 1083965, 1062975, 1015488]\n",
      "Next node to visit is: 1062975\n",
      "Path to 1062975 : [1062975, 1061214, 1061886, 1061783, 1063220]\n",
      "Nodes to visit [1060976, 1063181, 1227201, 1065124, 1065765, 1056128, 1015488, 1064839, 135047, 1060110, 1067505, 48977, 1083965]\n",
      "Next node to visit is: 1060976\n",
      "Path to 1060976 : [1060976, 1060722, 1062975]\n",
      "Nodes to visit [1060110, 1083965, 1056128, 1227201, 1015488, 1065124, 1065765, 1064839, 135047, 1063181, 1067505, 48977]\n",
      "Next node to visit is: 1083965\n",
      "Path to 1083965 : [1083965, 1163761, 1060975, 1060976]\n",
      "Nodes to visit [1064839, 1015488, 1227201, 1065124, 1065765, 1063181, 1060110, 1067505, 48977, 1056128, 135047]\n",
      "Next node to visit is: 1060110\n",
      "Path to 1060110 : [1060110, 295804, 1061726, 1164271, 1083965]\n",
      "Nodes to visit [1227201, 1063181, 135047, 1056128, 1015488, 1065124, 1065765, 1064839, 1067505, 48977]\n",
      "Next node to visit is: 1065765\n",
      "Path to 1065765 : [1065765, 1061851, 1060061, 1062105, 1060110]\n",
      "Nodes to visit [1227201, 1015488, 1065124, 1064839, 1063181, 1067505, 48977, 1056128, 135047]\n",
      "Next node to visit is: 1064839\n",
      "Path to 1064839 : [1064839, 1437132, 1064008, 1061851, 1065765]\n",
      "Nodes to visit [1015488, 1227201, 1065124, 135047, 1063181, 1067505, 48977, 1056128]\n",
      "Next node to visit is: 1063181\n",
      "Path to 1063181 : [1063181, 1063895, 1054622, 1058111, 1064839]\n",
      "Nodes to visit [1227201, 1065124, 1056128, 1015488, 135047, 1067505, 48977]\n",
      "Next node to visit is: 1227201\n",
      "Path to 1227201 : [1227201, 1164510, 1063179, 1063181]\n",
      "Nodes to visit [1067505, 1056128, 1015488, 1065124, 135047, 48977]\n",
      "Next node to visit is: 1065124\n",
      "Path to 1065124 : [1065124, 1553849, 1059997, 1061787, 1227201]\n",
      "Nodes to visit [1015488, 1067505, 48977, 1056128, 135047]\n",
      "Next node to visit is: 1015488\n",
      "Path to 1015488 : [1015488, 1163885, 1060291, 1059345, 1065124]\n",
      "Nodes to visit [48977, 1067505, 135047, 1056128]\n",
      "Next node to visit is: 1067505\n",
      "Path to 1067505 : [1067505, 1062131, 1065527, 1061837, 626919, 1015488]\n",
      "Nodes to visit [135047, 1056128, 48977]\n",
      "Next node to visit is: 1056128\n",
      "Path to 1056128 : [1056128, 1063287, 1061683, 1061463, 1067505]\n",
      "Nodes to visit [48977, 135047]\n",
      "Next node to visit is: 48977\n",
      "Path to 48977 : [48977, 1060880, 1061591, 1163154, 1162620, 1056128]\n",
      "Running time: -577.4082627296448\n",
      "82\n"
     ]
    }
   ],
   "source": [
    "start = time.time()\n",
    "res4 = visit_all('Films_shot_in_New_Mexico')\n",
    "print('Running time:', start - time.time())\n",
    "print(len(res4))"
   ]
  },
  {
   "cell_type": "code",
   "execution_count": 40,
   "metadata": {
    "scrolled": false
   },
   "outputs": [
    {
     "name": "stdout",
     "output_type": "stream",
     "text": [
      "Center is node 1059279 with indegree 20\n",
      "Nodes to visit [1059013, 1048936, 1064562, 1048863, 1059776, 1064868, 1064976, 1056145, 774929, 708976, 939699, 1058742, 1059031, 1048952, 1048955, 231519, 1245905, 1055411, 419897, 583195, 1048956, 1048924]\n",
      "Next node to visit is: 1064976\n",
      "Path to 1064976 : [1064976, 1058261, 1063517, 1062563, 1059279]\n",
      "Nodes to visit [1064868, 1048936, 708976, 774929, 1059031, 1048863, 1059776, 1059013, 1056145, 1245905, 1064562, 939699, 1058742, 1048952, 419897, 1048955, 1048956, 231519, 583195, 1048924, 1055411]\n",
      "Next node to visit is: 1058742\n",
      "Path to 1058742 : [1058742, 143564, 1061852, 1062691, 1064976]\n",
      "Nodes to visit [1048936, 1059776, 1064868, 1059013, 708976, 1056145, 1245905, 1064562, 939699, 1059031, 1048952, 419897, 1048955, 231519, 774929, 1055411, 1048956, 1048863, 583195, 1048924]\n",
      "Next node to visit is: 1064562\n",
      "Path to 1064562 : [1064562, 1552273, 1054375, 1062052, 1058742]\n",
      "Nodes to visit [1048863, 1059031, 1059776, 1064868, 1059013, 1048936, 708976, 1056145, 774929, 939699, 1048952, 419897, 1048955, 231519, 1245905, 583195, 1048956, 1055411, 1048924]\n",
      "Next node to visit is: 1064868\n",
      "Path to 1064868 : [1064868, 1059264, 1181054, 1061878, 1064562]\n",
      "Nodes to visit [1059776, 774929, 1059013, 1048936, 1056145, 1059031, 1048955, 1048863, 708976, 1055411, 939699, 1048952, 419897, 1048956, 231519, 1245905, 583195, 1048924]\n",
      "Next node to visit is: 1048936\n",
      "Path to 1048936 : [1048936, 1164173, 1059453, 1059264, 1064868]\n",
      "Nodes to visit [231519, 1048956, 1059776, 1059013, 708976, 1056145, 774929, 939699, 1059031, 1048952, 1048955, 1048863, 1245905, 1055411, 1048924, 419897, 583195]\n",
      "Next node to visit is: 1056145\n",
      "Path to 1056145 : [1056145, 1162641, 1176613, 1163761, 1048936]\n",
      "Nodes to visit [1059776, 1059013, 708976, 1059031, 419897, 774929, 1245905, 1055411, 939699, 1048952, 1048955, 1048956, 231519, 1048863, 583195, 1048924]\n",
      "Next node to visit is: 1059776\n",
      "Path to 1059776 : [1059776, 1169778, 1059313, 711679, 1056145]\n",
      "Nodes to visit [939699, 774929, 1059031, 1048955, 1048863, 1059013, 708976, 1245905, 1055411, 1048952, 419897, 583195, 1048956, 231519, 1048924]\n",
      "Next node to visit is: 1059013\n",
      "Path to 1059013 : [1059013, 1059617, 1067391, 1061900, 1062084, 1059776]\n",
      "Nodes to visit [708976, 1048863, 774929, 939699, 1059031, 1048952, 1048956, 231519, 1245905, 1055411, 583195, 419897, 1048955, 1048924]\n",
      "Next node to visit is: 1048955\n",
      "Path to 1048955 : [1048955, 1165907, 1025352, 1061923, 1063871, 1059013]\n",
      "Nodes to visit [939699, 1048956, 231519, 708976, 774929, 1059031, 1048952, 1048863, 1245905, 1055411, 419897, 583195, 1048924]\n",
      "Next node to visit is: 1059031\n",
      "Path to 1059031 : [1059031, 1062002, 1061866, 1061805, 1048955]\n",
      "Nodes to visit [708976, 774929, 419897, 231519, 1245905, 1055411, 939699, 1048952, 1048956, 583195, 1048924, 1048863]\n",
      "Next node to visit is: 1048952\n",
      "Path to 1048952 : [1048952, 1163949, 1062035, 1064986, 1060564, 1059031]\n",
      "Nodes to visit [774929, 939699, 419897, 1048863, 708976, 1245905, 1055411, 1048924, 1048956, 231519, 583195]\n",
      "Next node to visit is: 419897\n",
      "Path to 419897 : [419897, 1163785, 1502389, 1225200, 1048952]\n",
      "Nodes to visit [774929, 1048863, 708976, 1245905, 939699, 1048956, 583195, 1048924, 231519, 1055411]\n",
      "Next node to visit is: 774929\n",
      "Path to 774929 : [774929, 1062042, 1062224, 1164204, 419897]\n",
      "Nodes to visit [939699, 1048863, 708976, 1245905, 1055411, 1048956, 231519, 583195, 1048924]\n",
      "Next node to visit is: 708976\n",
      "Path to 708976 : [708976, 1163242, 1227892, 1185100, 1169809, 774929]\n",
      "Nodes to visit [1048863, 1055411, 1048956, 939699, 231519, 1245905, 583195, 1048924]\n",
      "Next node to visit is: 1048956\n",
      "Path to 1048956 : [1048956, 1065071, 1065111, 1064559, 1163242, 708976]\n",
      "Nodes to visit [939699, 1048863, 231519, 1245905, 1055411, 1048924, 583195]\n",
      "Next node to visit is: 231519\n",
      "Path to 231519 : [231519, 1163621, 1062880, 1060964, 1065071, 1048956]\n",
      "Nodes to visit [1055411, 939699, 1048863, 583195, 1048924, 1245905]\n",
      "Next node to visit is: 1055411\n",
      "Path to 1055411 : [1055411, 1055410, 1062193, 675477, 1164624, 231519]\n",
      "Nodes to visit [939699, 1048863, 1245905, 1048924, 583195]\n",
      "Next node to visit is: 939699\n",
      "Path to 939699 : [939699, 1162583, 1164818, 1062193, 1055410, 1055411]\n",
      "Nodes to visit [1245905, 1048863, 1048924, 583195]\n",
      "Next node to visit is: 1245905\n",
      "Path to 1245905 : [1245905, 940319, 1163678, 1246276, 1163919, 939699]\n",
      "Nodes to visit [1048863, 583195, 1048924]\n",
      "Next node to visit is: 583195\n",
      "Path to 583195 : [583195, 582169, 1063298, 1061863, 1057899, 1059550, 940319, 1245905]\n",
      "Nodes {1048924, 1048863} cannot be reached from node 583195\n",
      "Cannot reach other nodes from 583195\n",
      "Running time: 1819.1304697990417\n",
      "12\n"
     ]
    }
   ],
   "source": [
    "start = time.time()\n",
    "res5 = visit_all('Disney_films')\n",
    "print('Running time:', time.time() - start)\n",
    "print(len(res5))"
   ]
  },
  {
   "cell_type": "markdown",
   "metadata": {},
   "source": [
    "## RQ5"
   ]
  },
  {
   "cell_type": "code",
   "execution_count": 41,
   "metadata": {
    "scrolled": false
   },
   "outputs": [],
   "source": [
    "def categories_distance(c1):\n",
    "    \n",
    "    c1_nodes = [int(i) for i in category_nodes[c1]] # int casting needed for comparison\n",
    "    distances_dict = {k: [] for k in category_nodes.keys()}\n",
    "    \n",
    "    '''\n",
    "    1. We consider the exploration tree of each node in c1 with the exploration function defined above. \n",
    "    2. For each category c2 we save a list of distances between any node in c2 (node2) and node1.\n",
    "    3. For a new node in c1 (node1), we will keep updating the list of distances for each category c2.\n",
    "       If any node in c2 is disconnected from node1 (not in node1 tree) we consider it to be at a distance\n",
    "       from equal to the max distance of node1 tree + 1.\n",
    "    4. Finally, we will take the median of distances for each category and sort the dictionary.\n",
    "    '''\n",
    "    \n",
    "    #step 1\n",
    "    for node1 in c1_nodes:\n",
    "        if node1 in out_links.keys():\n",
    "            distance_tree = explore(node1,None)\n",
    "    #step 2\n",
    "            for cat in category_nodes.keys():  \n",
    "                dist = []\n",
    "                disconnected = []\n",
    "                for node1_dist in distance_tree.keys():\n",
    "                    c2_nodes = [int(i) for i in category_nodes[cat]]\n",
    "                    nodes_in_tree = len(set(c2_nodes).intersection(set(distance_tree[node1_dist])))\n",
    "                    dist += [node1_dist]*nodes_in_tree # number of nodes at distance d x distance d\n",
    "    # step 3\n",
    "                disconnected = [max(distance_tree.keys())+1]*(len(c2_nodes)-len(dist)) \n",
    "                distances_dict[cat] += dist + disconnected\n",
    "    # step 4\n",
    "    for key in distances_dict.keys():\n",
    "        distances_dict[key] = statistics.median(distances_dict[key])\n",
    "    \n",
    "    distances_dict = {k: v for k, v in sorted(distances_dict.items(), key=lambda item: item[1])}\n",
    "    \n",
    "    return distances_dict"
   ]
  },
  {
   "cell_type": "code",
   "execution_count": 42,
   "metadata": {},
   "outputs": [
    {
     "name": "stdout",
     "output_type": "stream",
     "text": [
      "Execution time: 1.9188928683598836 minutes\n"
     ]
    }
   ],
   "source": [
    "start = time.time()\n",
    "d = categories_distance('Naturalised_citizens_of_the_United_Kingdom')\n",
    "print('Execution time:', (time.time() - start)/60, 'minutes')"
   ]
  },
  {
   "cell_type": "code",
   "execution_count": 43,
   "metadata": {},
   "outputs": [
    {
     "data": {
      "image/png": "[encoded data removed]",
      "text/plain": [
       "<Figure size 1080x576 with 1 Axes>"
      ]
     },
     "metadata": {
      "needs_background": "light"
     },
     "output_type": "display_data"
    }
   ],
   "source": [
    "df_rq5 = pd.DataFrame(d, index = ['distance']).T\n",
    "df_rq5.head(20).sort_values(by = 'distance', ascending = False).plot.barh(figsize = (15,8),color = 'lightblue');"
   ]
  },
  {
   "cell_type": "code",
   "execution_count": 44,
   "metadata": {},
   "outputs": [],
   "source": [
    "distances = list(d.values())\n",
    "dist_plot = []\n",
    "for dist in set(distances):\n",
    "    dist_plot.append(distances.count(dist))"
   ]
  },
  {
   "cell_type": "code",
   "execution_count": 45,
   "metadata": {},
   "outputs": [
    {
     "data": {
      "image/png": "[encoded data removed]",
      "text/plain": [
       "<Figure size 864x432 with 1 Axes>"
      ]
     },
     "metadata": {
      "needs_background": "light"
     },
     "output_type": "display_data"
    }
   ],
   "source": [
    "plt.figure(figsize=(12,6))\n",
    "plt.bar(sorted(set(distances)),dist_plot,color = 'lightblue',width = 0.5);\n",
    "plt.ylabel('Number of catecories')\n",
    "plt.xlabel('Distance')\n",
    "plt.title('Distance distribution')\n",
    "plt.show()"
   ]
  },
  {
   "cell_type": "markdown",
   "metadata": {},
   "source": [
    "## RQ6"
   ]
  },
  {
   "cell_type": "code",
   "execution_count": 46,
   "metadata": {},
   "outputs": [],
   "source": [
    "def transform(links):\n",
    "    \n",
    "    ''' We transform our graph into one which has categories as nodes. \n",
    "    In order to do this we consider the inlinks and outlinks of each node separately.\n",
    "    1. For each category we concatenate the nodes associated to any of the nodes of that category.\n",
    "    2. We weight links by counting how many nodes in a category are linked to another node (or other nodes)\n",
    "    in another category.'''\n",
    "    \n",
    "    links_cat = {k: [] for k in category_nodes.keys()}\n",
    "    \n",
    "    for node in nodes_category.keys():\n",
    "        if int(node) in links.keys():\n",
    "            for link in links[int(node)]:\n",
    "                if link in nodes_category.keys():\n",
    "                    if links_cat[nodes_category[node]] != nodes_category[link]:    # to avoid selflinks\n",
    "                        links_cat[nodes_category[node]].append(nodes_category[link])\n",
    "\n",
    "    for cat in links_cat.keys():\n",
    "        categories = {}\n",
    "        to_transform = set(links_cat[cat])\n",
    "        for node in to_transform:\n",
    "            categories[node] = links_cat[cat].count(node)\n",
    "        links_cat[cat] = categories\n",
    "                                     \n",
    "    return links_cat"
   ]
  },
  {
   "cell_type": "code",
   "execution_count": 47,
   "metadata": {},
   "outputs": [],
   "source": [
    "in_links_cat = transform(in_links)\n",
    "out_links_cat = transform(out_links)"
   ]
  },
  {
   "cell_type": "code",
   "execution_count": 48,
   "metadata": {},
   "outputs": [
    {
     "data": {
      "text/plain": [
       "{'Cleveland_Indians_players': 1,\n",
       " 'American_military_personnel_of_World_War_II': 1,\n",
       " 'Living_people': 1}"
      ]
     },
     "execution_count": 48,
     "metadata": {},
     "output_type": "execute_result"
    }
   ],
   "source": [
    "in_links_cat['American_military_personnel_from_Wisconsin']"
   ]
  },
  {
   "cell_type": "code",
   "execution_count": 49,
   "metadata": {},
   "outputs": [],
   "source": [
    "def pagerank(n_iter):\n",
    "    \n",
    "    ''' INITIALIZATION\n",
    "    This page rank algorithm initialize the ranking vector assuming that all pages have the same importance.\n",
    "    1. we store a list of category names with fixed index that we use for the ranking vector\n",
    "    2. we initalize all values as 1 / number of nodes\n",
    "    '''\n",
    "    categories_names = list(set(in_links_cat.keys()).union(set(out_links_cat.keys())))\n",
    "    init = [1/len(categories_names)]*len(categories_names)\n",
    "    \n",
    "    \n",
    "    ''' ITERATIONS\n",
    "    1. At each iteration we initalize a new vector to store the ranking score of each node.\n",
    "    2. For each node we initialize a 0 score and save the nodes (In) that have an outlink to that node (node1).\n",
    "    3. For each node (node2) that has an outlink to the analyzed node (node1), we define:\n",
    "        a) Probability : probability that node1 is reached through node2\n",
    "        b) Rank : rank score of node2 in the previous iteration\n",
    "    4. We multiply probability of node 2 by its ranking score\n",
    "    5. We sum this score for all nodes in In and assign this final score to the position of node1 in the rank vector.\n",
    "    6. We update init vector.\n",
    "     '''\n",
    "    for i in range(n_iter):\n",
    "        # print(sum(init))\n",
    "        new_iter = [0]*len(categories_names)\n",
    "        for node1 in categories_names:\n",
    "            score = 0\n",
    "            pos1 = categories_names.index(node1)\n",
    "            if node1 in in_links_cat.keys():        # not all nodes have in_links\n",
    "                In = in_links_cat[node1]\n",
    "                for node2 in In:\n",
    "                    pos2 = categories_names.index(node2)\n",
    "                    prob2 = out_links_cat[node2][node1]/sum(out_links_cat[node2].values())\n",
    "                    rank2 = init[pos2]\n",
    "                    score += rank2*prob2\n",
    "            new_iter[pos1] = score\n",
    "        init = new_iter\n",
    "        \n",
    "    return dict(zip(categories_names,init))"
   ]
  },
  {
   "cell_type": "code",
   "execution_count": 50,
   "metadata": {},
   "outputs": [
    {
     "name": "stdout",
     "output_type": "stream",
     "text": [
      "Execution time: 0.696871284643809 minutes\n"
     ]
    }
   ],
   "source": [
    "start = time.time()\n",
    "rank = pagerank(6)\n",
    "print('Execution time:', (time.time() - start)/60, 'minutes')"
   ]
  },
  {
   "cell_type": "code",
   "execution_count": 51,
   "metadata": {},
   "outputs": [
    {
     "data": {
      "image/png": "[encoded data removed]",
      "text/plain": [
       "<Figure size 1080x576 with 1 Axes>"
      ]
     },
     "metadata": {
      "needs_background": "light"
     },
     "output_type": "display_data"
    }
   ],
   "source": [
    "df_rq6 = pd.DataFrame(rank, index = ['rank']).T\n",
    "df_rq6.head(10).sort_values(by = 'rank', ascending = True).plot.barh(figsize = (15,8),color = 'lightblue');"
   ]
  },
  {
   "cell_type": "code",
   "execution_count": null,
   "metadata": {},
   "outputs": [],
   "source": []
  }
 ],
 "metadata": {
  "kernelspec": {
   "display_name": "Python 3",
   "language": "python",
   "name": "python3"
  },
  "language_info": {
   "codemirror_mode": {
    "name": "ipython",
    "version": 3
   },
   "file_extension": ".py",
   "mimetype": "text/x-python",
   "name": "python",
   "nbconvert_exporter": "python",
   "pygments_lexer": "ipython3",
   "version": "3.8.3"
  }
 },
 "nbformat": 4,
 "nbformat_minor": 4
}
