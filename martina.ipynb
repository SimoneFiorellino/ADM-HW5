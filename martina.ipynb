{
 "cells": [
  {
   "cell_type": "code",
   "execution_count": 170,
   "metadata": {},
   "outputs": [],
   "source": [
    "import pandas as pd\n",
    "from matplotlib.pyplot import figure\n",
    "import matplotlib.pyplot as plt\n",
    "import random\n",
    "from collections import Counter \n",
    "import statistics\n",
    "import time"
   ]
  },
  {
   "cell_type": "markdown",
   "metadata": {},
   "source": [
    "### Importing and exploring data "
   ]
  },
  {
   "cell_type": "code",
   "execution_count": 2,
   "metadata": {},
   "outputs": [
    {
     "data": {
      "text/html": [
       "<div>\n",
       "<style scoped>\n",
       "    .dataframe tbody tr th:only-of-type {\n",
       "        vertical-align: middle;\n",
       "    }\n",
       "\n",
       "    .dataframe tbody tr th {\n",
       "        vertical-align: top;\n",
       "    }\n",
       "\n",
       "    .dataframe thead th {\n",
       "        text-align: right;\n",
       "    }\n",
       "</style>\n",
       "<table border=\"1\" class=\"dataframe\">\n",
       "  <thead>\n",
       "    <tr style=\"text-align: right;\">\n",
       "      <th></th>\n",
       "      <th>Unnamed: 0</th>\n",
       "      <th>0</th>\n",
       "      <th>1</th>\n",
       "    </tr>\n",
       "  </thead>\n",
       "  <tbody>\n",
       "    <tr>\n",
       "      <th>0</th>\n",
       "      <td>796</td>\n",
       "      <td>95</td>\n",
       "      <td>1185516</td>\n",
       "    </tr>\n",
       "    <tr>\n",
       "      <th>1</th>\n",
       "      <td>909</td>\n",
       "      <td>108</td>\n",
       "      <td>1059989</td>\n",
       "    </tr>\n",
       "    <tr>\n",
       "      <th>2</th>\n",
       "      <td>910</td>\n",
       "      <td>108</td>\n",
       "      <td>1062426</td>\n",
       "    </tr>\n",
       "    <tr>\n",
       "      <th>3</th>\n",
       "      <td>911</td>\n",
       "      <td>108</td>\n",
       "      <td>1161925</td>\n",
       "    </tr>\n",
       "    <tr>\n",
       "      <th>4</th>\n",
       "      <td>1141</td>\n",
       "      <td>134</td>\n",
       "      <td>541222</td>\n",
       "    </tr>\n",
       "  </tbody>\n",
       "</table>\n",
       "</div>"
      ],
      "text/plain": [
       "   Unnamed: 0    0        1\n",
       "0         796   95  1185516\n",
       "1         909  108  1059989\n",
       "2         910  108  1062426\n",
       "3         911  108  1161925\n",
       "4        1141  134   541222"
      ]
     },
     "execution_count": 2,
     "metadata": {},
     "output_type": "execute_result"
    }
   ],
   "source": [
    "dataset = pd.read_csv('wikigraph_reduced.csv', sep='\\t', \n",
    "                      delimiter=None, header='infer',\n",
    "                      names=None, index_col=None, \n",
    "                      usecols=None, \n",
    "                      encoding = \"ISO-8859-1\")\n",
    "dataset.head()"
   ]
  },
  {
   "cell_type": "code",
   "execution_count": 3,
   "metadata": {},
   "outputs": [],
   "source": [
    "dataset.columns=['Index','Source','Target']"
   ]
  },
  {
   "cell_type": "code",
   "execution_count": 4,
   "metadata": {},
   "outputs": [
    {
     "name": "stdout",
     "output_type": "stream",
     "text": [
      "483094\n",
      "483094\n"
     ]
    }
   ],
   "source": [
    "# check if index columns has unique values\n",
    "print(len(dataset.Index))\n",
    "print(len(set(dataset.Index)))"
   ]
  },
  {
   "cell_type": "code",
   "execution_count": 5,
   "metadata": {
    "scrolled": true
   },
   "outputs": [
    {
     "data": {
      "text/html": [
       "<div>\n",
       "<style scoped>\n",
       "    .dataframe tbody tr th:only-of-type {\n",
       "        vertical-align: middle;\n",
       "    }\n",
       "\n",
       "    .dataframe tbody tr th {\n",
       "        vertical-align: top;\n",
       "    }\n",
       "\n",
       "    .dataframe thead th {\n",
       "        text-align: right;\n",
       "    }\n",
       "</style>\n",
       "<table border=\"1\" class=\"dataframe\">\n",
       "  <thead>\n",
       "    <tr style=\"text-align: right;\">\n",
       "      <th></th>\n",
       "      <th>Source</th>\n",
       "      <th>Target</th>\n",
       "    </tr>\n",
       "    <tr>\n",
       "      <th>Index</th>\n",
       "      <th></th>\n",
       "      <th></th>\n",
       "    </tr>\n",
       "  </thead>\n",
       "  <tbody>\n",
       "    <tr>\n",
       "      <th>796</th>\n",
       "      <td>95</td>\n",
       "      <td>1185516</td>\n",
       "    </tr>\n",
       "    <tr>\n",
       "      <th>909</th>\n",
       "      <td>108</td>\n",
       "      <td>1059989</td>\n",
       "    </tr>\n",
       "    <tr>\n",
       "      <th>910</th>\n",
       "      <td>108</td>\n",
       "      <td>1062426</td>\n",
       "    </tr>\n",
       "    <tr>\n",
       "      <th>911</th>\n",
       "      <td>108</td>\n",
       "      <td>1161925</td>\n",
       "    </tr>\n",
       "    <tr>\n",
       "      <th>1141</th>\n",
       "      <td>134</td>\n",
       "      <td>541222</td>\n",
       "    </tr>\n",
       "  </tbody>\n",
       "</table>\n",
       "</div>"
      ],
      "text/plain": [
       "       Source   Target\n",
       "Index                 \n",
       "796        95  1185516\n",
       "909       108  1059989\n",
       "910       108  1062426\n",
       "911       108  1161925\n",
       "1141      134   541222"
      ]
     },
     "execution_count": 5,
     "metadata": {},
     "output_type": "execute_result"
    }
   ],
   "source": [
    "dataset.set_index('Index' , inplace = True)\n",
    "dataset.head()"
   ]
  },
  {
   "cell_type": "markdown",
   "metadata": {},
   "source": [
    "#### Associate single category to each node"
   ]
  },
  {
   "cell_type": "code",
   "execution_count": 6,
   "metadata": {},
   "outputs": [],
   "source": [
    "# all nodes in and out\n",
    "unique_nodes = set(set(dataset.Source).union(set(dataset.Target)))\n",
    "n_nodes = len(unique_nodes)\n",
    "n_edges = len(dataset)"
   ]
  },
  {
   "cell_type": "code",
   "execution_count": 7,
   "metadata": {},
   "outputs": [],
   "source": [
    "category_file = 'wiki-topcats-categories.txt'"
   ]
  },
  {
   "cell_type": "markdown",
   "metadata": {},
   "source": [
    "Non filtered categories"
   ]
  },
  {
   "cell_type": "code",
   "execution_count": 135,
   "metadata": {},
   "outputs": [],
   "source": [
    "categories_all = {v: [] for v in unique_nodes}\n",
    "no_category = []\n",
    "\n",
    "with open(category_file) as file:\n",
    "    for i in range(17364):\n",
    "        line = file.readline()\n",
    "        category = line.split(';')[0].split(':')[-1]\n",
    "        nodes = line.split(';')[1].split(' ')[1:-2]\n",
    "        \n",
    "        for node in nodes:\n",
    "            try:\n",
    "                categories_all[int(node)].append(category)\n",
    "            except:\n",
    "                no_category.append(int(node))"
   ]
  },
  {
   "cell_type": "markdown",
   "metadata": {},
   "source": [
    "Each node is associated to its unique category"
   ]
  },
  {
   "cell_type": "code",
   "execution_count": 136,
   "metadata": {},
   "outputs": [],
   "source": [
    "nodes_category = {}\n",
    "for n in categories_all.keys():\n",
    "    try:\n",
    "        rand_category = random.choice(categories_all[n])\n",
    "        nodes_category[n] = rand_category\n",
    "    except:\n",
    "        nodes_category[n] = None"
   ]
  },
  {
   "cell_type": "markdown",
   "metadata": {},
   "source": [
    "Each category is associated to a set of nodes"
   ]
  },
  {
   "cell_type": "code",
   "execution_count": 138,
   "metadata": {},
   "outputs": [],
   "source": [
    "category_nodes = {category:[] for category in set(nodes_category.values())}\n",
    "for node in nodes_category.keys():\n",
    "    try:\n",
    "        category_nodes[nodes_category[node]].append(node)\n",
    "    except:\n",
    "        continue"
   ]
  },
  {
   "cell_type": "markdown",
   "metadata": {},
   "source": [
    "#### Create graph"
   ]
  },
  {
   "cell_type": "code",
   "execution_count": 195,
   "metadata": {},
   "outputs": [],
   "source": [
    "in_links = {v: [] for v in set(dataset.Source)}\n",
    "out_links = {v: [] for v in set(dataset.Target)}\n",
    "\n",
    "for row in dataset.iterrows():\n",
    "    source = row[1][0]\n",
    "    target = row[1][1]\n",
    "    in_links[source].append(target)\n",
    "    out_links[target].append(source)"
   ]
  },
  {
   "cell_type": "code",
   "execution_count": 12,
   "metadata": {},
   "outputs": [],
   "source": [
    "n_art_outlink = len(out_links)\n",
    "n_art_inlink = len(in_links)"
   ]
  },
  {
   "cell_type": "markdown",
   "metadata": {},
   "source": [
    "#### Check if directed"
   ]
  },
  {
   "cell_type": "code",
   "execution_count": 13,
   "metadata": {},
   "outputs": [
    {
     "name": "stdout",
     "output_type": "stream",
     "text": [
      "Graph is directed\n"
     ]
    }
   ],
   "source": [
    "directed = False\n",
    "for node in in_links:\n",
    "    if len(set(in_links[node]).intersection(set(out_links[node]))) != 0:\n",
    "        directed = True\n",
    "        break\n",
    "if directed:\n",
    "    print('Graph is directed')\n",
    "else:\n",
    "    print('Graph is undirected')"
   ]
  },
  {
   "cell_type": "code",
   "execution_count": 11,
   "metadata": {},
   "outputs": [
    {
     "data": {
      "text/plain": [
       "98343"
      ]
     },
     "execution_count": 11,
     "metadata": {},
     "output_type": "execute_result"
    }
   ],
   "source": [
    "# undirected version of the graph\n",
    "links = in_links.copy()\n",
    "links.update(out_links)"
   ]
  },
  {
   "cell_type": "markdown",
   "metadata": {},
   "source": [
    "#### Density"
   ]
  },
  {
   "cell_type": "code",
   "execution_count": 51,
   "metadata": {},
   "outputs": [
    {
     "name": "stdout",
     "output_type": "stream",
     "text": [
      "Graph density is: 4.9951571365597335e-05\n",
      "Graph hyperliks avarage is: 4.912337431235573\n"
     ]
    }
   ],
   "source": [
    "density = (n_edges/(n_nodes*(n_nodes-1)))\n",
    "avarage = n_edges/n_nodes\n",
    "\n",
    "print('Graph density is:',density)\n",
    "print('Graph hyperliks avarage is:',avarage)"
   ]
  },
  {
   "cell_type": "markdown",
   "metadata": {},
   "source": [
    "#### Visualize the nodes' degree distribution"
   ]
  },
  {
   "cell_type": "code",
   "execution_count": 16,
   "metadata": {},
   "outputs": [],
   "source": [
    "my_len = [] \n",
    "for node in links.keys():\n",
    "    my_len.append(len(links[node]))\n",
    "\n",
    "# dictionary with degree\n",
    "node_degree = dict(zip(links.keys(), my_len))\n",
    "d = Counter(node_degree)"
   ]
  },
  {
   "cell_type": "code",
   "execution_count": 17,
   "metadata": {},
   "outputs": [],
   "source": [
    "# degree distribution\n",
    "counter_supp = list()\n",
    "for i in range(1, max(my_len)):\n",
    "    counter_supp.append(my_len.count(i))"
   ]
  },
  {
   "cell_type": "code",
   "execution_count": 18,
   "metadata": {},
   "outputs": [],
   "source": [
    "# cumulative degree ditribution\n",
    "counter = [0]\n",
    "for i in range(1, max(my_len)):\n",
    "    counter.append(counter[-1]+my_len.count(i))"
   ]
  },
  {
   "cell_type": "code",
   "execution_count": 20,
   "metadata": {},
   "outputs": [
    {
     "data": {
      "image/png": "[encoded data removed]",
      "text/plain": [
       "<Figure size 1368x432 with 1 Axes>"
      ]
     },
     "metadata": {
      "needs_background": "light"
     },
     "output_type": "display_data"
    }
   ],
   "source": [
    "plt.figure(figsize = (19,6))\n",
    "plt.bar(x = list(range(1,len(counter_supp[1:100])+1)),height = counter_supp[1:100],color = 'lightblue',width = 0.3);\n",
    "#plt.plot(counter[1:100],color = 'lightblue');\n",
    "plt.ylabel('Number of nodes')\n",
    "plt.xlabel('Degree')\n",
    "plt.title('Degree distribution')\n",
    "plt.show()"
   ]
  },
  {
   "cell_type": "code",
   "execution_count": 109,
   "metadata": {},
   "outputs": [
    {
     "data": {
      "image/png": "[encoded data removed]",
      "text/plain": [
       "<Figure size 1368x432 with 1 Axes>"
      ]
     },
     "metadata": {
      "needs_background": "light"
     },
     "output_type": "display_data"
    }
   ],
   "source": [
    "plt.figure(figsize = (19,6))\n",
    "plt.bar(x = list(range(1,len(counter[1:100])+1)),height = counter[1:100],color = 'lightblue',width = 0.3);\n",
    "#plt.plot(counter[1:100],color = 'lightblue');\n",
    "plt.ylabel('Number of nodes')\n",
    "plt.xlabel('Degree')\n",
    "plt.title('Cumulative degree distribution')\n",
    "plt.show()"
   ]
  },
  {
   "cell_type": "markdown",
   "metadata": {},
   "source": [
    "### Useful Functions"
   ]
  },
  {
   "cell_type": "code",
   "execution_count": 22,
   "metadata": {},
   "outputs": [],
   "source": [
    "def shortest_path (node1,node2):\n",
    "    \n",
    "    ''' This function takes in input two nodes and returns the length of the shortest path.\n",
    "    If node 1 does not have any outlink or if no path is found between node 1 and node 2, None is returned. '''\n",
    "    \n",
    "    # exeptions\n",
    "    if node1 == node2:\n",
    "        return 0\n",
    "    \n",
    "    # set of outnodes of node 1\n",
    "    try:\n",
    "        out_nodes = set(out_links[node1]) \n",
    "    except:\n",
    "        print('No out-link from', node1)\n",
    "        return None\n",
    "    \n",
    "    # initializing explored nodes set and minimu distance\n",
    "    explored = set() \n",
    "    clicks = 1\n",
    "    \n",
    "    ''' ITERATIONS\n",
    "    1. we iterate until we find node 2 \n",
    "    2. we check the new set of out-nodes to explore is non-empty \n",
    "    3. we iterate through unexplored nodes\n",
    "    4. if the node is a key in out_links, we add the set of nodes associated to it to the new set of nodes'''\n",
    "   \n",
    "    while node2 not in out_nodes: \n",
    "        \n",
    "        if out_nodes != set(): \n",
    "            new_out_nodes = set() \n",
    "\n",
    "            for node in out_nodes:  \n",
    "                try:\n",
    "                    new_out_nodes = new_out_nodes.union(set(out_links[node]))\n",
    "                except:\n",
    "                    continue\n",
    "\n",
    "            explored = explored.union(out_nodes)\n",
    "            out_nodes = new_out_nodes.difference(explored) \n",
    "            clicks += 1 \n",
    "        \n",
    "        # case in which we have not found node 2 but we don't have any other node to explore\n",
    "        else: \n",
    "            print('No path found')\n",
    "            return None\n",
    "    \n",
    "    return clicks"
   ]
  },
  {
   "cell_type": "code",
   "execution_count": 96,
   "metadata": {},
   "outputs": [],
   "source": [
    "def explore(node,limit):\n",
    "   \n",
    "    ''' This function takes as an input one node and a click limit.\n",
    "    Limit can be set to None if we don't want any limit.\n",
    "    The function returns a dictionary where keys are distances and values are all the nodes \n",
    "    which are at distance d (key) from the input node'''\n",
    "    \n",
    "    # initializing variables\n",
    "    distance_tree = {}\n",
    "    explored = set()\n",
    "    clicks = 1 \n",
    "    \n",
    "    # checking if node has at list one outlink\n",
    "    try:\n",
    "        out_nodes = set(out_links[node])\n",
    "    except:\n",
    "        print('No out-link from', node)\n",
    "        return distance_tree\n",
    "    \n",
    "    '''\n",
    "    1. We iterate until the new set of out-nodes to explore is non-empty \n",
    "    2. For each iteration we only consider unexplored nodes\n",
    "    3. If the node is a key in out_links, we add the set of nodes associated to it to the new set of nodes\n",
    "    4. We update all variables and increase distance by one'''\n",
    "\n",
    "    while out_nodes != set(): \n",
    "        \n",
    "        if limit != None:\n",
    "            if clicks > limit+1:         # We return when limit is given and reached\n",
    "                return distance_tree\n",
    "        \n",
    "        distance_tree[clicks] = out_nodes\n",
    "        new_out_nodes = set() \n",
    "        \n",
    "        for node in out_nodes: \n",
    "            try:\n",
    "                new_out_nodes = new_out_nodes.union(set(out_links[node])) \n",
    "            except:\n",
    "                continue\n",
    "        \n",
    "        explored = explored.union(out_nodes) \n",
    "        out_nodes = new_out_nodes.difference(explored)\n",
    "        clicks += 1 \n",
    "    \n",
    "    return distance_tree"
   ]
  },
  {
   "cell_type": "code",
   "execution_count": 97,
   "metadata": {},
   "outputs": [],
   "source": [
    "node1 = 108\n",
    "node2 = 1161925\n",
    "node3 = 134"
   ]
  },
  {
   "cell_type": "code",
   "execution_count": 67,
   "metadata": {},
   "outputs": [
    {
     "name": "stdout",
     "output_type": "stream",
     "text": [
      "5\n"
     ]
    }
   ],
   "source": [
    "# esempi di shortest_path\n",
    "print('The shortest path between', node3, 'and', node1, 'is', shortest_path(node3,node1))"
   ]
  },
  {
   "cell_type": "code",
   "execution_count": 467,
   "metadata": {},
   "outputs": [
    {
     "name": "stdout",
     "output_type": "stream",
     "text": [
      "Exploration tree of node 134 has max distance 15\n"
     ]
    }
   ],
   "source": [
    "# esempio di explore\n",
    "tree = explore(node3,None)\n",
    "print('Exploration tree of node', node3, 'has max distance', max(tree.keys()))"
   ]
  },
  {
   "cell_type": "markdown",
   "metadata": {},
   "source": [
    "## RQ2"
   ]
  },
  {
   "cell_type": "code",
   "execution_count": 147,
   "metadata": {},
   "outputs": [],
   "source": [
    "def get_articles(node,n_clicks):\n",
    "    '''This function works as the explore function defined above, but with a different output format.'''\n",
    "    tree = explore(node_id,n_clicks)\n",
    "    articles = []\n",
    "    for d in tree.keys():\n",
    "        articles+=tree[d]\n",
    "    return articles"
   ]
  },
  {
   "cell_type": "code",
   "execution_count": 148,
   "metadata": {},
   "outputs": [
    {
     "name": "stdout",
     "output_type": "stream",
     "text": [
      "Execution time:  0.2413542906443278 minutes\n",
      "Number of articles reached within 4 from node 134 : 44717\n"
     ]
    }
   ],
   "source": [
    "start = time.time()\n",
    "n_clicks = 4\n",
    "node_id = 134\n",
    "articles = get_articles(node_id,n_clicks)\n",
    "print('Execution time: ', (time.time() - start)/60, 'minutes')\n",
    "print('Number of articles reached within', n_clicks, 'from node', node_id,':', len(articles))"
   ]
  },
  {
   "cell_type": "code",
   "execution_count": 92,
   "metadata": {},
   "outputs": [
    {
     "data": {
      "image/png": "[encoded data removed]",
      "text/plain": [
       "<Figure size 1080x432 with 1 Axes>"
      ]
     },
     "metadata": {
      "needs_background": "light"
     },
     "output_type": "display_data"
    }
   ],
   "source": [
    "graph = []\n",
    "for n_clicks in range(7):\n",
    "    graph.append(len(get_articles(node_id,n_clicks)))\n",
    "plt.figure(figsize = (15,6))\n",
    "plt.plot(graph,color = 'lightblue');\n",
    "plt.ylabel('Number of articles reached')\n",
    "plt.xlabel('Number of clicks')\n",
    "plt.title(f'Node {node_id}')\n",
    "plt.show()"
   ]
  },
  {
   "cell_type": "markdown",
   "metadata": {},
   "source": [
    "## RQ5"
   ]
  },
  {
   "cell_type": "code",
   "execution_count": 404,
   "metadata": {
    "scrolled": false
   },
   "outputs": [],
   "source": [
    "def categories_distance(c1):\n",
    "    \n",
    "    c1_nodes = [int(i) for i in category_nodes[c1]] # int casting needed for comparison\n",
    "    distances_dict = {k: [] for k in category_nodes.keys()}\n",
    "    \n",
    "    '''\n",
    "    1. We consider the exploration tree of each node in c1 with the exploration function defined above. \n",
    "    2. For each category c2 we save a list of distances between any node in c2 (node2) and node1.\n",
    "    3. For a new node in c1 (node1), we will keep updating the list of distances for each category c2.\n",
    "       If any node in c2 is disconnected from node1 (not in node1 tree) we consider it to be at a distance\n",
    "       from equal to the max distance of node1 tree + 1.\n",
    "    4. Finally, we will take the median of distances for each category and sort the dictionary.\n",
    "    '''\n",
    "    \n",
    "    #step 1\n",
    "    for node1 in c1_nodes:\n",
    "        if node1 in out_links.keys():\n",
    "            distance_tree = explore(node1,None)\n",
    "    #step 2\n",
    "            for cat in category_nodes.keys():  \n",
    "                dist = []\n",
    "                disconnected = []\n",
    "                for node1_dist in distance_tree.keys():\n",
    "                    c2_nodes = [int(i) for i in category_nodes[cat]]\n",
    "                    nodes_in_tree = len(set(c2_nodes).intersection(set(distance_tree[node1_dist])))\n",
    "                    dist += [node1_dist]*nodes_in_tree # number of nodes at distance d x distance d\n",
    "    # step 3\n",
    "                disconnected = [max(distance_tree.keys())+1]*(len(c2_nodes)-len(dist)) \n",
    "                distances_dict[cat] += dist + disconnected\n",
    "    # step 4\n",
    "    for key in distances_dict.keys():\n",
    "        distances_dict[key] = statistics.median(distances_dict[key])\n",
    "    \n",
    "    distances_dict = {k: v for k, v in sorted(distances_dict.items(), key=lambda item: item[1])}\n",
    "    \n",
    "    return distances_dict"
   ]
  },
  {
   "cell_type": "code",
   "execution_count": 414,
   "metadata": {},
   "outputs": [
    {
     "name": "stdout",
     "output_type": "stream",
     "text": [
      "Execution time: 3.0599409222602842 minutes\n"
     ]
    }
   ],
   "source": [
    "start = time.time()\n",
    "d = categories_distance('Florida Republicans')\n",
    "print('Execution time:', (time.time() - start)/60, 'minutes')"
   ]
  },
  {
   "cell_type": "code",
   "execution_count": 465,
   "metadata": {},
   "outputs": [
    {
     "data": {
      "image/png": "[encoded data removed]",
      "text/plain": [
       "<Figure size 1080x576 with 1 Axes>"
      ]
     },
     "metadata": {
      "needs_background": "light"
     },
     "output_type": "display_data"
    }
   ],
   "source": [
    "df_rq5 = pd.DataFrame(d, index = ['distance']).T\n",
    "df_rq5.head(20).sort_values(by = 'distance', ascending = False).plot.barh(figsize = (15,8),color = 'lightblue');"
   ]
  },
  {
   "cell_type": "code",
   "execution_count": 456,
   "metadata": {},
   "outputs": [],
   "source": [
    "distances = list(d.values())\n",
    "dist_plot = []\n",
    "for dist in set(distances):\n",
    "    dist_plot.append(distances.count(dist))"
   ]
  },
  {
   "cell_type": "code",
   "execution_count": 461,
   "metadata": {},
   "outputs": [
    {
     "data": {
      "image/png": "[encoded data removed]",
      "text/plain": [
       "<Figure size 864x432 with 1 Axes>"
      ]
     },
     "metadata": {
      "needs_background": "light"
     },
     "output_type": "display_data"
    }
   ],
   "source": [
    "plt.figure(figsize=(12,6))\n",
    "plt.bar(sorted(set(distances)),dist_plot,color = 'lightblue',width = 0.5);\n",
    "plt.ylabel('Number of catecories')\n",
    "plt.xlabel('Distance')\n",
    "plt.title('Distance distribution')\n",
    "plt.show()"
   ]
  },
  {
   "cell_type": "markdown",
   "metadata": {},
   "source": [
    "## RQ6"
   ]
  },
  {
   "cell_type": "code",
   "execution_count": 304,
   "metadata": {},
   "outputs": [],
   "source": [
    "def adjust():\n",
    "    \n",
    "    ''' We transform our graph into one which has categories as nodes. \n",
    "    In order to do this we consider the inlinks and outlinks of each node in a category and sum up all of them \n",
    "    to define the category out and in links.'''\n",
    "    \n",
    "    in_links_cat = {}\n",
    "    out_links_cat = {}\n",
    "    \n",
    "    for node in in_links.keys():\n",
    "        if node in nodes_category.keys():\n",
    "            key = nodes_category[node]\n",
    "        values = []\n",
    "        for n in in_links[node]:\n",
    "            if n in nodes_category:\n",
    "                values.append(nodes_category[n])\n",
    "        in_links_cat[key] = set(values)\n",
    "    \n",
    "    for node in out_links.keys():\n",
    "        if node in nodes_category.keys():\n",
    "            key = nodes_category[node]\n",
    "        values = []\n",
    "        for n in out_links[node]:\n",
    "            if n in nodes_category:\n",
    "                values.append(nodes_category[n])\n",
    "        out_links_cat[key] = set(values)\n",
    "\n",
    "    return in_links_cat,out_links_cat"
   ]
  },
  {
   "cell_type": "code",
   "execution_count": 311,
   "metadata": {},
   "outputs": [],
   "source": [
    "in_links_cat,out_links_cat = adjust()"
   ]
  },
  {
   "cell_type": "code",
   "execution_count": 312,
   "metadata": {},
   "outputs": [
    {
     "data": {
      "text/plain": [
       "{'Rivers_of_Hunedoara_County',\n",
       " 'Rivers_of_Romania',\n",
       " 'Rivers_of_the_Mure_subbasin'}"
      ]
     },
     "execution_count": 312,
     "metadata": {},
     "output_type": "execute_result"
    }
   ],
   "source": [
    "# example\n",
    "in_links_cat['Rivers_of_Hunedoara_County']"
   ]
  },
  {
   "cell_type": "code",
   "execution_count": 361,
   "metadata": {},
   "outputs": [],
   "source": [
    "def pagerank(n_iter):\n",
    "    \n",
    "    ''' INITIALIZATION\n",
    "    This page rank algorithm initialize the ranking vector assuming that all pages have the same importance.\n",
    "    1. we store a list of category names with fixed index that we use for the ranking vector\n",
    "    2. we initalize all values as 1 / number of nodes\n",
    "    '''\n",
    "    categories_names = list(set(in_links_cat.keys()).union(set(out_links_cat.keys())))\n",
    "    init = [1/len(categories_names)]*len(categories_names)\n",
    "    \n",
    "    \n",
    "    ''' ITERATIONS\n",
    "    1. At each iteration we initalize a new vector to store the ranking score of each node.\n",
    "    2. For each node we initialize a 0 score and save the nodes (In) that have an outlink to that node (node1).\n",
    "    3. For each node (node2) that has an outlink to the analyzed node (node1), we define:\n",
    "        a) Probability : probability that node1 is reached through node2\n",
    "        b) Rank : rank score of node2 in the previous iteration\n",
    "    4. We multiply probability of node 2 by its ranking score\n",
    "    5. We sum this score for all nodes in In and assign this final score to the position of node1 in the rank vector.\n",
    "    6. We update init vector.\n",
    "     '''\n",
    "    for i in range(n_iter):\n",
    "        new_iter = [0]*len(categories_names)\n",
    "        for node1 in categories_names:\n",
    "            score = 0\n",
    "            pos1 = categories_names.index(node1)\n",
    "            if node1 in in_links_cat: # not all nodes have in_links\n",
    "                In = in_links_cat[node1]\n",
    "                for node2 in In:\n",
    "                    pos2 = categories_names.index(node2)\n",
    "                    prob2 = 1/len(out_links_cat[node2])\n",
    "                    rank2 = init[pos2]\n",
    "                    score += rank2*prob2\n",
    "            new_iter[pos1] = score\n",
    "        init = new_iter\n",
    "        \n",
    "    return dict(zip(categories_names,init))"
   ]
  },
  {
   "cell_type": "code",
   "execution_count": 468,
   "metadata": {},
   "outputs": [
    {
     "name": "stdout",
     "output_type": "stream",
     "text": [
      "Execution time: 0.1349172353744507 minutes\n"
     ]
    }
   ],
   "source": [
    "start = time.time()\n",
    "rank = pagerank(10)\n",
    "print('Execution time:', (time.time() - start)/60, 'minutes')"
   ]
  },
  {
   "cell_type": "code",
   "execution_count": 470,
   "metadata": {},
   "outputs": [
    {
     "data": {
      "image/png": "[encoded data removed]",
      "text/plain": [
       "<Figure size 1080x576 with 1 Axes>"
      ]
     },
     "metadata": {
      "needs_background": "light"
     },
     "output_type": "display_data"
    }
   ],
   "source": [
    "df_rq6 = pd.DataFrame(rank, index = ['rank']).T\n",
    "df_rq6.head(10).sort_values(by = 'rank', ascending = True).plot.barh(figsize = (15,8),color = 'lightblue');"
   ]
  },
  {
   "cell_type": "code",
   "execution_count": null,
   "metadata": {},
   "outputs": [],
   "source": []
  }
 ],
 "metadata": {
  "kernelspec": {
   "display_name": "Python 3",
   "language": "python",
   "name": "python3"
  },
  "language_info": {
   "codemirror_mode": {
    "name": "ipython",
    "version": 3
   },
   "file_extension": ".py",
   "mimetype": "text/x-python",
   "name": "python",
   "nbconvert_exporter": "python",
   "pygments_lexer": "ipython3",
   "version": "3.8.3"
  }
 },
 "nbformat": 4,
 "nbformat_minor": 4
}
